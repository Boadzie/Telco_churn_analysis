{
  "nbformat": 4,
  "nbformat_minor": 0,
  "metadata": {
    "colab": {
      "provenance": [],
      "authorship_tag": "ABX9TyNL1Y7bTdipI3/EmuyJpi3t",
      "include_colab_link": true
    },
    "kernelspec": {
      "name": "python3",
      "display_name": "Python 3"
    },
    "language_info": {
      "name": "python"
    },
    "accelerator": "TPU"
  },
  "cells": [
    {
      "cell_type": "markdown",
      "metadata": {
        "id": "view-in-github",
        "colab_type": "text"
      },
      "source": [
        "<a href=\"https://colab.research.google.com/github/Boadzie/Telco_churn_analysis/blob/main/Telco_Customer_Churn_Analysis.ipynb\" target=\"_parent\"><img src=\"https://colab.research.google.com/assets/colab-badge.svg\" alt=\"Open In Colab\"/></a>"
      ]
    },
    {
      "cell_type": "markdown",
      "source": [
        "# Telco Churn Analysis\n",
        "\n",
        "Customer churn is when a customer decides to stop purchasing or doing business with a particular firm for some reason which include dissatisfaction with a service or product, poor customer service, etc.\n",
        "\n",
        "The study likelihood of a customer leaving or stoping the use of a product or service is called Churn Analysis.\n",
        "\n",
        "## Why\n",
        "\n",
        "Companies loose a lot of money anually because thier customers or client churn. This significantly affect\n",
        "\n",
        "In this nkitebook, we will devlve into churn analysis using Telco Data from [Kaggle](https://www.kaggle.com/datasets/blastchar/telco-customer-churn)\n",
        "\n",
        "## Objective\n",
        "> This notebook will demo how to perform customer Churn Analysis on a dataset.\n",
        "\n"
      ],
      "metadata": {
        "id": "9Ow3-YlyI7P4"
      }
    },
    {
      "cell_type": "markdown",
      "source": [
        "### Step 1 - Get The Data"
      ],
      "metadata": {
        "id": "jZ3HVOS9LjmR"
      }
    },
    {
      "cell_type": "code",
      "source": [
        "# Install polars and lets-plot\n",
        "!pip install --upgrade polars\n",
        "!pip install --upgrade lets-plot"
      ],
      "metadata": {
        "colab": {
          "base_uri": "https://localhost:8080/"
        },
        "id": "RIFiRmHmLugu",
        "outputId": "f5aab76d-648c-4797-cf81-9cc692223fa6"
      },
      "execution_count": null,
      "outputs": [
        {
          "output_type": "stream",
          "name": "stdout",
          "text": [
            "Requirement already satisfied: polars in /usr/local/lib/python3.10/dist-packages (0.18.5)\n",
            "Collecting lets-plot\n",
            "  Downloading lets_plot-3.2.0-cp310-cp310-manylinux_2_17_x86_64.manylinux2014_x86_64.whl (2.8 MB)\n",
            "\u001b[2K     \u001b[90m━━━━━━━━━━━━━━━━━━━━━━━━━━━━━━━━━━━━━━━━\u001b[0m \u001b[32m2.8/2.8 MB\u001b[0m \u001b[31m15.5 MB/s\u001b[0m eta \u001b[36m0:00:00\u001b[0m\n",
            "\u001b[?25hCollecting pypng (from lets-plot)\n",
            "  Downloading pypng-0.20220715.0-py3-none-any.whl (58 kB)\n",
            "\u001b[2K     \u001b[90m━━━━━━━━━━━━━━━━━━━━━━━━━━━━━━━━━━━━━━━━\u001b[0m \u001b[32m58.1/58.1 kB\u001b[0m \u001b[31m7.4 MB/s\u001b[0m eta \u001b[36m0:00:00\u001b[0m\n",
            "\u001b[?25hRequirement already satisfied: palettable in /usr/local/lib/python3.10/dist-packages (from lets-plot) (3.3.3)\n",
            "Installing collected packages: pypng, lets-plot\n",
            "Successfully installed lets-plot-3.2.0 pypng-0.20220715.0\n"
          ]
        }
      ]
    },
    {
      "cell_type": "code",
      "source": [
        "# unzip the data\n",
        "!unzip archive.zip"
      ],
      "metadata": {
        "colab": {
          "base_uri": "https://localhost:8080/"
        },
        "id": "IcxOahESNM_0",
        "outputId": "d76aecef-b189-4419-c670-fc3d4b4c86e3"
      },
      "execution_count": null,
      "outputs": [
        {
          "output_type": "stream",
          "name": "stdout",
          "text": [
            "Archive:  archive.zip\n",
            "  inflating: WA_Fn-UseC_-Telco-Customer-Churn.csv  \n"
          ]
        }
      ]
    },
    {
      "cell_type": "code",
      "execution_count": null,
      "metadata": {
        "colab": {
          "base_uri": "https://localhost:8080/",
          "height": 414
        },
        "id": "6SMif8FYI0Pg",
        "outputId": "4dcc9481-1e48-47a5-d71b-1dc97c445e3c"
      },
      "outputs": [
        {
          "output_type": "execute_result",
          "data": {
            "text/plain": [
              "shape: (5, 21)\n",
              "┌────────────┬────────┬────────────┬─────────┬───┬────────────┬────────────┬───────────────┬───────┐\n",
              "│ customerID ┆ gender ┆ SeniorCiti ┆ Partner ┆ … ┆ PaymentMet ┆ MonthlyCha ┆ TotalCharges  ┆ Churn │\n",
              "│ ---        ┆ ---    ┆ zen        ┆ ---     ┆   ┆ hod        ┆ rges       ┆ ---           ┆ ---   │\n",
              "│ str        ┆ str    ┆ ---        ┆ str     ┆   ┆ ---        ┆ ---        ┆ f64           ┆ str   │\n",
              "│            ┆        ┆ i64        ┆         ┆   ┆ str        ┆ f64        ┆               ┆       │\n",
              "╞════════════╪════════╪════════════╪═════════╪═══╪════════════╪════════════╪═══════════════╪═══════╡\n",
              "│ 7590-VHVEG ┆ Female ┆ 0          ┆ Yes     ┆ … ┆ Electronic ┆ 29.85      ┆ 29.85         ┆ No    │\n",
              "│            ┆        ┆            ┆         ┆   ┆ check      ┆            ┆               ┆       │\n",
              "│ 5575-GNVDE ┆ Male   ┆ 0          ┆ No      ┆ … ┆ Mailed     ┆ 56.95      ┆ 1889.5        ┆ No    │\n",
              "│            ┆        ┆            ┆         ┆   ┆ check      ┆            ┆               ┆       │\n",
              "│ 3668-QPYBK ┆ Male   ┆ 0          ┆ No      ┆ … ┆ Mailed     ┆ 53.85      ┆ 108.15        ┆ Yes   │\n",
              "│            ┆        ┆            ┆         ┆   ┆ check      ┆            ┆               ┆       │\n",
              "│ 7795-CFOCW ┆ Male   ┆ 0          ┆ No      ┆ … ┆ Bank       ┆ 42.3       ┆ 1840.75       ┆ No    │\n",
              "│            ┆        ┆            ┆         ┆   ┆ transfer   ┆            ┆               ┆       │\n",
              "│            ┆        ┆            ┆         ┆   ┆ (automatic ┆            ┆               ┆       │\n",
              "│            ┆        ┆            ┆         ┆   ┆ )          ┆            ┆               ┆       │\n",
              "│ 9237-HQITU ┆ Female ┆ 0          ┆ No      ┆ … ┆ Electronic ┆ 70.7       ┆ 151.65        ┆ Yes   │\n",
              "│            ┆        ┆            ┆         ┆   ┆ check      ┆            ┆               ┆       │\n",
              "└────────────┴────────┴────────────┴─────────┴───┴────────────┴────────────┴───────────────┴───────┘"
            ],
            "text/html": [
              "<div><style>\n",
              ".dataframe > thead > tr > th,\n",
              ".dataframe > tbody > tr > td {\n",
              "  text-align: right;\n",
              "}\n",
              "</style>\n",
              "<small>shape: (5, 21)</small><table border=\"1\" class=\"dataframe\"><thead><tr><th>customerID</th><th>gender</th><th>SeniorCitizen</th><th>Partner</th><th>Dependents</th><th>tenure</th><th>PhoneService</th><th>MultipleLines</th><th>InternetService</th><th>OnlineSecurity</th><th>OnlineBackup</th><th>DeviceProtection</th><th>TechSupport</th><th>StreamingTV</th><th>StreamingMovies</th><th>Contract</th><th>PaperlessBilling</th><th>PaymentMethod</th><th>MonthlyCharges</th><th>TotalCharges</th><th>Churn</th></tr><tr><td>str</td><td>str</td><td>i64</td><td>str</td><td>str</td><td>i64</td><td>str</td><td>str</td><td>str</td><td>str</td><td>str</td><td>str</td><td>str</td><td>str</td><td>str</td><td>str</td><td>str</td><td>str</td><td>f64</td><td>f64</td><td>str</td></tr></thead><tbody><tr><td>&quot;7590-VHVEG&quot;</td><td>&quot;Female&quot;</td><td>0</td><td>&quot;Yes&quot;</td><td>&quot;No&quot;</td><td>1</td><td>&quot;No&quot;</td><td>&quot;No phone servi…</td><td>&quot;DSL&quot;</td><td>&quot;No&quot;</td><td>&quot;Yes&quot;</td><td>&quot;No&quot;</td><td>&quot;No&quot;</td><td>&quot;No&quot;</td><td>&quot;No&quot;</td><td>&quot;Month-to-month…</td><td>&quot;Yes&quot;</td><td>&quot;Electronic che…</td><td>29.85</td><td>29.85</td><td>&quot;No&quot;</td></tr><tr><td>&quot;5575-GNVDE&quot;</td><td>&quot;Male&quot;</td><td>0</td><td>&quot;No&quot;</td><td>&quot;No&quot;</td><td>34</td><td>&quot;Yes&quot;</td><td>&quot;No&quot;</td><td>&quot;DSL&quot;</td><td>&quot;Yes&quot;</td><td>&quot;No&quot;</td><td>&quot;Yes&quot;</td><td>&quot;No&quot;</td><td>&quot;No&quot;</td><td>&quot;No&quot;</td><td>&quot;One year&quot;</td><td>&quot;No&quot;</td><td>&quot;Mailed check&quot;</td><td>56.95</td><td>1889.5</td><td>&quot;No&quot;</td></tr><tr><td>&quot;3668-QPYBK&quot;</td><td>&quot;Male&quot;</td><td>0</td><td>&quot;No&quot;</td><td>&quot;No&quot;</td><td>2</td><td>&quot;Yes&quot;</td><td>&quot;No&quot;</td><td>&quot;DSL&quot;</td><td>&quot;Yes&quot;</td><td>&quot;Yes&quot;</td><td>&quot;No&quot;</td><td>&quot;No&quot;</td><td>&quot;No&quot;</td><td>&quot;No&quot;</td><td>&quot;Month-to-month…</td><td>&quot;Yes&quot;</td><td>&quot;Mailed check&quot;</td><td>53.85</td><td>108.15</td><td>&quot;Yes&quot;</td></tr><tr><td>&quot;7795-CFOCW&quot;</td><td>&quot;Male&quot;</td><td>0</td><td>&quot;No&quot;</td><td>&quot;No&quot;</td><td>45</td><td>&quot;No&quot;</td><td>&quot;No phone servi…</td><td>&quot;DSL&quot;</td><td>&quot;Yes&quot;</td><td>&quot;No&quot;</td><td>&quot;Yes&quot;</td><td>&quot;Yes&quot;</td><td>&quot;No&quot;</td><td>&quot;No&quot;</td><td>&quot;One year&quot;</td><td>&quot;No&quot;</td><td>&quot;Bank transfer …</td><td>42.3</td><td>1840.75</td><td>&quot;No&quot;</td></tr><tr><td>&quot;9237-HQITU&quot;</td><td>&quot;Female&quot;</td><td>0</td><td>&quot;No&quot;</td><td>&quot;No&quot;</td><td>2</td><td>&quot;Yes&quot;</td><td>&quot;No&quot;</td><td>&quot;Fiber optic&quot;</td><td>&quot;No&quot;</td><td>&quot;No&quot;</td><td>&quot;No&quot;</td><td>&quot;No&quot;</td><td>&quot;No&quot;</td><td>&quot;No&quot;</td><td>&quot;Month-to-month…</td><td>&quot;Yes&quot;</td><td>&quot;Electronic che…</td><td>70.7</td><td>151.65</td><td>&quot;Yes&quot;</td></tr></tbody></table></div>"
            ]
          },
          "metadata": {},
          "execution_count": 82
        }
      ],
      "source": [
        "# import the libraries\n",
        "import polars as pl\n",
        "from lets_plot import *\n",
        "\n",
        "churn = pl.read_csv(\"Telco-Customer-Churn.csv\")\n",
        "churn.head()"
      ]
    },
    {
      "cell_type": "markdown",
      "source": [
        "### Step 2 - Getting to Know the data"
      ],
      "metadata": {
        "id": "EcvhfEclOqO2"
      }
    },
    {
      "cell_type": "code",
      "source": [
        "# Get the data type of each column\n",
        "for col in churn:\n",
        "  print(f\"{col.name} => {col.dtype}\")"
      ],
      "metadata": {
        "colab": {
          "base_uri": "https://localhost:8080/"
        },
        "id": "jEPT9QFtJTDQ",
        "outputId": "f7c46216-1bbb-4388-f3c1-a8a54f1140a6"
      },
      "execution_count": null,
      "outputs": [
        {
          "output_type": "stream",
          "name": "stdout",
          "text": [
            "customerID => Utf8\n",
            "gender => Utf8\n",
            "SeniorCitizen => Int64\n",
            "Partner => Utf8\n",
            "Dependents => Utf8\n",
            "tenure => Int64\n",
            "PhoneService => Utf8\n",
            "MultipleLines => Utf8\n",
            "InternetService => Utf8\n",
            "OnlineSecurity => Utf8\n",
            "OnlineBackup => Utf8\n",
            "DeviceProtection => Utf8\n",
            "TechSupport => Utf8\n",
            "StreamingTV => Utf8\n",
            "StreamingMovies => Utf8\n",
            "Contract => Utf8\n",
            "PaperlessBilling => Utf8\n",
            "PaymentMethod => Utf8\n",
            "MonthlyCharges => Float64\n",
            "TotalCharges => Float64\n",
            "Churn => Utf8\n"
          ]
        }
      ]
    },
    {
      "cell_type": "code",
      "source": [
        "# get a glimpse of the\n",
        "churn.glimpse()"
      ],
      "metadata": {
        "colab": {
          "base_uri": "https://localhost:8080/"
        },
        "id": "KhSKP4umJTGC",
        "outputId": "2f812892-6651-4580-b704-12219cea16d0"
      },
      "execution_count": null,
      "outputs": [
        {
          "output_type": "stream",
          "name": "stdout",
          "text": [
            "Rows: 7043\n",
            "Columns: 21\n",
            "$ customerID       <str> 7590-VHVEG, 5575-GNVDE, 3668-QPYBK, 7795-CFOCW, 9237-HQITU, 9305-CDSKC, 1452-KIOVK, 6713-OKOMC, 7892-POOKP, 6388-TABGU\n",
            "$ gender           <str> Female, Male, Male, Male, Female, Female, Male, Female, Female, Male\n",
            "$ SeniorCitizen    <i64> 0, 0, 0, 0, 0, 0, 0, 0, 0, 0\n",
            "$ Partner          <str> Yes, No, No, No, No, No, No, No, Yes, No\n",
            "$ Dependents       <str> No, No, No, No, No, No, Yes, No, No, Yes\n",
            "$ tenure           <i64> 1, 34, 2, 45, 2, 8, 22, 10, 28, 62\n",
            "$ PhoneService     <str> No, Yes, Yes, No, Yes, Yes, Yes, No, Yes, Yes\n",
            "$ MultipleLines    <str> No phone service, No, No, No phone service, No, Yes, Yes, No phone service, Yes, No\n",
            "$ InternetService  <str> DSL, DSL, DSL, DSL, Fiber optic, Fiber optic, Fiber optic, DSL, Fiber optic, DSL\n",
            "$ OnlineSecurity   <str> No, Yes, Yes, Yes, No, No, No, Yes, No, Yes\n",
            "$ OnlineBackup     <str> Yes, No, Yes, No, No, No, Yes, No, No, Yes\n",
            "$ DeviceProtection <str> No, Yes, No, Yes, No, Yes, No, No, Yes, No\n",
            "$ TechSupport      <str> No, No, No, Yes, No, No, No, No, Yes, No\n",
            "$ StreamingTV      <str> No, No, No, No, No, Yes, Yes, No, Yes, No\n",
            "$ StreamingMovies  <str> No, No, No, No, No, Yes, No, No, Yes, No\n",
            "$ Contract         <str> Month-to-month, One year, Month-to-month, One year, Month-to-month, Month-to-month, Month-to-month, Month-to-month, Month-to-month, One year\n",
            "$ PaperlessBilling <str> Yes, No, Yes, No, Yes, Yes, Yes, No, Yes, No\n",
            "$ PaymentMethod    <str> Electronic check, Mailed check, Mailed check, Bank transfer (automatic), Electronic check, Electronic check, Credit card (automatic), Mailed check, Electronic check, Bank transfer (automatic)\n",
            "$ MonthlyCharges   <f64> 29.85, 56.95, 53.85, 42.3, 70.7, 99.65, 89.1, 29.75, 104.8, 56.15\n",
            "$ TotalCharges     <f64> 29.85, 1889.5, 108.15, 1840.75, 151.65, 820.5, 1949.4, 301.9, 3046.05, 3487.95\n",
            "$ Churn            <str> No, No, Yes, No, Yes, Yes, No, No, Yes, No\n",
            "\n"
          ]
        }
      ]
    },
    {
      "cell_type": "code",
      "source": [
        "# get value counts for Churn\n",
        "q = churn[\"Churn\"].value_counts()\n",
        "\n",
        "print(q)"
      ],
      "metadata": {
        "colab": {
          "base_uri": "https://localhost:8080/"
        },
        "id": "w0_oJcVHJTIY",
        "outputId": "6814641a-6f4d-495a-ffe4-89a05136eb81"
      },
      "execution_count": null,
      "outputs": [
        {
          "output_type": "stream",
          "name": "stdout",
          "text": [
            "shape: (2, 2)\n",
            "┌───────┬────────┐\n",
            "│ Churn ┆ counts │\n",
            "│ ---   ┆ ---    │\n",
            "│ str   ┆ u32    │\n",
            "╞═══════╪════════╡\n",
            "│ No    ┆ 5174   │\n",
            "│ Yes   ┆ 1869   │\n",
            "└───────┴────────┘\n"
          ]
        }
      ]
    },
    {
      "cell_type": "code",
      "source": [
        "ggplot(q, aes(x=\"Churn\", y=\"counts\")) + geom_bar(stat=\"identity\")"
      ],
      "metadata": {
        "colab": {
          "base_uri": "https://localhost:8080/",
          "height": 421
        },
        "id": "7sTk5NT1JTL6",
        "outputId": "10dfe713-3a87-4387-805e-4331b772b55f"
      },
      "execution_count": null,
      "outputs": [
        {
          "output_type": "execute_result",
          "data": {
            "text/plain": [
              "<lets_plot.plot.core.PlotSpec at 0x7f880d59ebc0>"
            ],
            "text/html": [
              "<html lang=\"en\">\n",
              "   <head>\n",
              "       <script type=\"text/javascript\" data-lets-plot-script=\"library\" src=\"https://cdn.jsdelivr.net/gh/JetBrains/lets-plot@v3.2.0/js-package/distr/lets-plot.min.js\"></script>\n",
              "   </head>\n",
              "   <body>\n",
              "          <div id=\"GQEnK5\"></div>\n",
              "   <script type=\"text/javascript\" data-lets-plot-script=\"plot\">\n",
              "       var plotSpec={\n",
              "\"data\":{\n",
              "\"Churn\":[\"No\",\"Yes\"],\n",
              "\"counts\":[5174.0,1869.0]\n",
              "},\n",
              "\"mapping\":{\n",
              "\"x\":\"Churn\",\n",
              "\"y\":\"counts\"\n",
              "},\n",
              "\"data_meta\":{\n",
              "},\n",
              "\"kind\":\"plot\",\n",
              "\"scales\":[],\n",
              "\"layers\":[{\n",
              "\"geom\":\"bar\",\n",
              "\"stat\":\"identity\",\n",
              "\"mapping\":{\n",
              "},\n",
              "\"data_meta\":{\n",
              "},\n",
              "\"data\":{\n",
              "}\n",
              "}],\n",
              "\"metainfo_list\":[]\n",
              "};\n",
              "       var plotContainer = document.getElementById(\"GQEnK5\");\n",
              "       LetsPlot.buildPlotFromProcessedSpecs(plotSpec, -1, -1, plotContainer);\n",
              "   </script>\n",
              "   </body>\n",
              "</html>"
            ]
          },
          "metadata": {},
          "execution_count": 26
        }
      ]
    },
    {
      "cell_type": "markdown",
      "source": [
        "From this visualization we can see that there a huge imbalance in our target variable that we will need to deal with later on."
      ],
      "metadata": {
        "id": "RuUP-PwDQ_z3"
      }
    },
    {
      "cell_type": "markdown",
      "source": [
        "### Step 3 - EDA\n",
        "\n",
        "Inorder to fully understand our dataset, its variables and the relationships that exist in it, we need to perform an Exploratory Data Analysis(EDA)."
      ],
      "metadata": {
        "id": "N5z6-vhQRcDR"
      }
    },
    {
      "cell_type": "code",
      "source": [
        "# get thses cols ['gender','SeniorCitizen',\"Partner\",\"Dependents\"]\n",
        "some_cols = churn.select(\n",
        "    pl.col(['gender','SeniorCitizen',\"Partner\",\"Dependents\"])\n",
        ")\n",
        "print(some_cols)"
      ],
      "metadata": {
        "colab": {
          "base_uri": "https://localhost:8080/"
        },
        "id": "KvBM-B29RJSC",
        "outputId": "a9b3d2cb-f811-4323-bc7f-f291a3b1c6e7"
      },
      "execution_count": null,
      "outputs": [
        {
          "output_type": "stream",
          "name": "stdout",
          "text": [
            "shape: (7_043, 4)\n",
            "┌────────┬───────────────┬─────────┬────────────┐\n",
            "│ gender ┆ SeniorCitizen ┆ Partner ┆ Dependents │\n",
            "│ ---    ┆ ---           ┆ ---     ┆ ---        │\n",
            "│ str    ┆ i64           ┆ str     ┆ str        │\n",
            "╞════════╪═══════════════╪═════════╪════════════╡\n",
            "│ Female ┆ 0             ┆ Yes     ┆ No         │\n",
            "│ Male   ┆ 0             ┆ No      ┆ No         │\n",
            "│ Male   ┆ 0             ┆ No      ┆ No         │\n",
            "│ Male   ┆ 0             ┆ No      ┆ No         │\n",
            "│ …      ┆ …             ┆ …       ┆ …          │\n",
            "│ Female ┆ 0             ┆ Yes     ┆ Yes        │\n",
            "│ Female ┆ 0             ┆ Yes     ┆ Yes        │\n",
            "│ Male   ┆ 1             ┆ Yes     ┆ No         │\n",
            "│ Male   ┆ 0             ┆ No      ┆ No         │\n",
            "└────────┴───────────────┴─────────┴────────────┘\n"
          ]
        }
      ]
    },
    {
      "cell_type": "code",
      "source": [
        "from lets_plot.mapping import as_discrete\n",
        "\n",
        "\n",
        "# visualize the columns\n",
        "p1 = ggplot(some_cols, aes(as_discrete(\"gender\"))) + geom_bar()\n",
        "p2 = ggplot(some_cols, aes(as_discrete(\"SeniorCitizen\"))) + geom_bar()\n",
        "p3 = ggplot(some_cols, aes(as_discrete(\"Partner\"))) + geom_bar()\n",
        "p4 = ggplot(some_cols, aes(as_discrete(\"Dependents\"))) + geom_bar()\n",
        "\n",
        "\n",
        "gggrid([p1, p2, p3, p4])"
      ],
      "metadata": {
        "colab": {
          "base_uri": "https://localhost:8080/",
          "height": 417
        },
        "id": "lvVkTG5MRJUi",
        "outputId": "21ca94fd-3ee8-48cd-f2c5-6f30a154f2ee"
      },
      "execution_count": null,
      "outputs": [
        {
          "output_type": "execute_result",
          "data": {
            "text/plain": [
              "<lets_plot.plot.subplots.SupPlotsSpec at 0x7f8806145ae0>"
            ],
            "text/html": [
              "<html lang=\"en\">\n",
              "   <head>\n",
              "       <script type=\"text/javascript\" data-lets-plot-script=\"library\" src=\"https://cdn.jsdelivr.net/gh/JetBrains/lets-plot@v3.2.0/js-package/distr/lets-plot.min.js\"></script>\n",
              "   </head>\n",
              "   <body>\n",
              "          <div id=\"TOmAMd\"></div>\n",
              "   <script type=\"text/javascript\" data-lets-plot-script=\"plot\">\n",
              "       var plotSpec={\n",
              "\"kind\":\"subplots\",\n",
              "\"layout\":{\n",
              "\"ncol\":4.0,\n",
              "\"nrow\":1.0,\n",
              "\"name\":\"grid\"\n",
              "},\n",
              "\"figures\":[{\n",
              "\"data\":{\n",
              "},\n",
              "\"mapping\":{\n",
              "\"x\":\"@as_discrete@gender\"\n",
              "},\n",
              "\"data_meta\":{\n",
              "\"mapping_annotations\":[{\n",
              "\"aes\":\"x\",\n",
              "\"annotation\":\"as_discrete\",\n",
              "\"parameters\":{\n",
              "\"label\":\"gender\"\n",
              "}\n",
              "}]\n",
              "},\n",
              "\"kind\":\"plot\",\n",
              "\"scales\":[],\n",
              "\"layers\":[{\n",
              "\"geom\":\"bar\",\n",
              "\"mapping\":{\n",
              "},\n",
              "\"data_meta\":{\n",
              "},\n",
              "\"data\":{\n",
              "\"..count..\":[3488.0,3555.0],\n",
              "\"@as_discrete@gender\":[\"Female\",\"Male\"]\n",
              "}\n",
              "}],\n",
              "\"metainfo_list\":[]\n",
              "},{\n",
              "\"data\":{\n",
              "},\n",
              "\"mapping\":{\n",
              "\"x\":\"@as_discrete@SeniorCitizen\"\n",
              "},\n",
              "\"data_meta\":{\n",
              "\"mapping_annotations\":[{\n",
              "\"aes\":\"x\",\n",
              "\"annotation\":\"as_discrete\",\n",
              "\"parameters\":{\n",
              "\"label\":\"SeniorCitizen\"\n",
              "}\n",
              "}]\n",
              "},\n",
              "\"kind\":\"plot\",\n",
              "\"scales\":[],\n",
              "\"layers\":[{\n",
              "\"geom\":\"bar\",\n",
              "\"mapping\":{\n",
              "},\n",
              "\"data_meta\":{\n",
              "},\n",
              "\"data\":{\n",
              "\"..count..\":[5901.0,1142.0],\n",
              "\"@as_discrete@SeniorCitizen\":[0.0,1.0]\n",
              "}\n",
              "}],\n",
              "\"metainfo_list\":[]\n",
              "},{\n",
              "\"data\":{\n",
              "},\n",
              "\"mapping\":{\n",
              "\"x\":\"@as_discrete@Partner\"\n",
              "},\n",
              "\"data_meta\":{\n",
              "\"mapping_annotations\":[{\n",
              "\"aes\":\"x\",\n",
              "\"annotation\":\"as_discrete\",\n",
              "\"parameters\":{\n",
              "\"label\":\"Partner\"\n",
              "}\n",
              "}]\n",
              "},\n",
              "\"kind\":\"plot\",\n",
              "\"scales\":[],\n",
              "\"layers\":[{\n",
              "\"geom\":\"bar\",\n",
              "\"mapping\":{\n",
              "},\n",
              "\"data_meta\":{\n",
              "},\n",
              "\"data\":{\n",
              "\"..count..\":[3402.0,3641.0],\n",
              "\"@as_discrete@Partner\":[\"Yes\",\"No\"]\n",
              "}\n",
              "}],\n",
              "\"metainfo_list\":[]\n",
              "},{\n",
              "\"data\":{\n",
              "},\n",
              "\"mapping\":{\n",
              "\"x\":\"@as_discrete@Dependents\"\n",
              "},\n",
              "\"data_meta\":{\n",
              "\"mapping_annotations\":[{\n",
              "\"aes\":\"x\",\n",
              "\"annotation\":\"as_discrete\",\n",
              "\"parameters\":{\n",
              "\"label\":\"Dependents\"\n",
              "}\n",
              "}]\n",
              "},\n",
              "\"kind\":\"plot\",\n",
              "\"scales\":[],\n",
              "\"layers\":[{\n",
              "\"geom\":\"bar\",\n",
              "\"mapping\":{\n",
              "},\n",
              "\"data_meta\":{\n",
              "},\n",
              "\"data\":{\n",
              "\"..count..\":[4933.0,2110.0],\n",
              "\"@as_discrete@Dependents\":[\"No\",\"Yes\"]\n",
              "}\n",
              "}],\n",
              "\"metainfo_list\":[]\n",
              "}]\n",
              "};\n",
              "       var plotContainer = document.getElementById(\"TOmAMd\");\n",
              "       LetsPlot.buildPlotFromProcessedSpecs(plotSpec, -1, -1, plotContainer);\n",
              "   </script>\n",
              "   </body>\n",
              "</html>"
            ]
          },
          "metadata": {},
          "execution_count": 58
        }
      ]
    },
    {
      "cell_type": "markdown",
      "source": [
        "We can see that most of the customers are younger(not Seniors) and have no dependants. There is almost an equal distribution between gender and marital status(Partner)."
      ],
      "metadata": {
        "id": "KPAjgMXRYXdH"
      }
    },
    {
      "cell_type": "code",
      "source": [
        "# getting relationship between churn and monthly charges\n",
        "ggplot(churn, aes(x=\"Churn\", y=\"MonthlyCharges\")) + \\\n",
        " geom_boxplot(aes(fill=\"Churn\"))"
      ],
      "metadata": {
        "colab": {
          "base_uri": "https://localhost:8080/",
          "height": 421
        },
        "id": "jF8JOuYORJcq",
        "outputId": "9cfb64ac-9d16-4a37-b3c7-53aff2d75d7c"
      },
      "execution_count": null,
      "outputs": [
        {
          "output_type": "execute_result",
          "data": {
            "text/plain": [
              "<lets_plot.plot.core.PlotSpec at 0x7f87ff44d960>"
            ],
            "text/html": [
              "<html lang=\"en\">\n",
              "   <head>\n",
              "       <script type=\"text/javascript\" data-lets-plot-script=\"library\" src=\"https://cdn.jsdelivr.net/gh/JetBrains/lets-plot@v3.2.0/js-package/distr/lets-plot.min.js\"></script>\n",
              "   </head>\n",
              "   <body>\n",
              "          <div id=\"2NfPoF\"></div>\n",
              "   <script type=\"text/javascript\" data-lets-plot-script=\"plot\">\n",
              "       var plotSpec={\n",
              "\"data\":{\n",
              "},\n",
              "\"mapping\":{\n",
              "\"x\":\"Churn\",\n",
              "\"y\":\"MonthlyCharges\"\n",
              "},\n",
              "\"data_meta\":{\n",
              "},\n",
              "\"kind\":\"plot\",\n",
              "\"scales\":[],\n",
              "\"layers\":[{\n",
              "\"geom\":\"boxplot\",\n",
              "\"mapping\":{\n",
              "\"fill\":\"Churn\"\n",
              "},\n",
              "\"data_meta\":{\n",
              "},\n",
              "\"data\":{\n",
              "\"..middle..\":[64.42500000000001,79.65],\n",
              "\"..lower..\":[25.1,56.15],\n",
              "\"..upper..\":[88.4,94.2],\n",
              "\"..ymin..\":[18.25,18.85],\n",
              "\"..ymax..\":[118.75,118.35],\n",
              "\"Churn\":[\"No\",\"Yes\"],\n",
              "\"MonthlyCharges\":[NaN,NaN]\n",
              "}\n",
              "}],\n",
              "\"metainfo_list\":[]\n",
              "};\n",
              "       var plotContainer = document.getElementById(\"2NfPoF\");\n",
              "       LetsPlot.buildPlotFromProcessedSpecs(plotSpec, -1, -1, plotContainer);\n",
              "   </script>\n",
              "   </body>\n",
              "</html>"
            ]
          },
          "metadata": {},
          "execution_count": 75
        }
      ]
    },
    {
      "cell_type": "code",
      "source": [
        "# Let's examine the relation between churn rate and some other variables\n",
        "# ['InternetService',\"TechSupport\",\"OnlineBackup\",\"Contract\"]\n",
        "\n",
        "p5 = ggplot(churn, aes(x=\"Churn\", fill=\"OnlineBackup\")) + \\\n",
        "  geom_bar(position='dodge')\n",
        "\n",
        "p6 = ggplot(churn, aes(x=\"Churn\", fill=\"InternetService\")) + \\\n",
        "  geom_bar(position='dodge')\n",
        "\n",
        "p7 = ggplot(churn, aes(x=\"Churn\", fill=\"TechSupport\")) + \\\n",
        "  geom_bar(position='dodge')\n",
        "\n",
        "p8 = ggplot(churn, aes(x=\"Churn\", fill=\"Contract\")) + \\\n",
        "  geom_bar(position='dodge')\n",
        "\n",
        "gggrid([p5, p6, p7, p8])"
      ],
      "metadata": {
        "colab": {
          "base_uri": "https://localhost:8080/",
          "height": 417
        },
        "id": "JI2N3TmrRJfK",
        "outputId": "d2766b5f-f93e-4937-b492-fa778091210f"
      },
      "execution_count": null,
      "outputs": [
        {
          "output_type": "execute_result",
          "data": {
            "text/plain": [
              "<lets_plot.plot.subplots.SupPlotsSpec at 0x7f87faa74d60>"
            ],
            "text/html": [
              "<html lang=\"en\">\n",
              "   <head>\n",
              "       <script type=\"text/javascript\" data-lets-plot-script=\"library\" src=\"https://cdn.jsdelivr.net/gh/JetBrains/lets-plot@v3.2.0/js-package/distr/lets-plot.min.js\"></script>\n",
              "   </head>\n",
              "   <body>\n",
              "          <div id=\"v4g6W3\"></div>\n",
              "   <script type=\"text/javascript\" data-lets-plot-script=\"plot\">\n",
              "       var plotSpec={\n",
              "\"kind\":\"subplots\",\n",
              "\"layout\":{\n",
              "\"ncol\":4.0,\n",
              "\"nrow\":1.0,\n",
              "\"name\":\"grid\"\n",
              "},\n",
              "\"figures\":[{\n",
              "\"data\":{\n",
              "},\n",
              "\"mapping\":{\n",
              "\"x\":\"Churn\",\n",
              "\"fill\":\"OnlineBackup\"\n",
              "},\n",
              "\"data_meta\":{\n",
              "},\n",
              "\"kind\":\"plot\",\n",
              "\"scales\":[],\n",
              "\"layers\":[{\n",
              "\"geom\":\"bar\",\n",
              "\"mapping\":{\n",
              "},\n",
              "\"position\":\"dodge\",\n",
              "\"data_meta\":{\n",
              "},\n",
              "\"data\":{\n",
              "\"..count..\":[1906.0,523.0,1855.0,1233.0,1413.0,113.0],\n",
              "\"Churn\":[\"No\",\"Yes\",\"No\",\"Yes\",\"No\",\"Yes\"],\n",
              "\"OnlineBackup\":[\"Yes\",\"Yes\",\"No\",\"No\",\"No internet service\",\"No internet service\"]\n",
              "}\n",
              "}],\n",
              "\"metainfo_list\":[]\n",
              "},{\n",
              "\"data\":{\n",
              "},\n",
              "\"mapping\":{\n",
              "\"x\":\"Churn\",\n",
              "\"fill\":\"InternetService\"\n",
              "},\n",
              "\"data_meta\":{\n",
              "},\n",
              "\"kind\":\"plot\",\n",
              "\"scales\":[],\n",
              "\"layers\":[{\n",
              "\"geom\":\"bar\",\n",
              "\"mapping\":{\n",
              "},\n",
              "\"position\":\"dodge\",\n",
              "\"data_meta\":{\n",
              "},\n",
              "\"data\":{\n",
              "\"..count..\":[1962.0,459.0,1297.0,1799.0,1413.0,113.0],\n",
              "\"Churn\":[\"No\",\"Yes\",\"Yes\",\"No\",\"No\",\"Yes\"],\n",
              "\"InternetService\":[\"DSL\",\"DSL\",\"Fiber optic\",\"Fiber optic\",\"No\",\"No\"]\n",
              "}\n",
              "}],\n",
              "\"metainfo_list\":[]\n",
              "},{\n",
              "\"data\":{\n",
              "},\n",
              "\"mapping\":{\n",
              "\"x\":\"Churn\",\n",
              "\"fill\":\"TechSupport\"\n",
              "},\n",
              "\"data_meta\":{\n",
              "},\n",
              "\"kind\":\"plot\",\n",
              "\"scales\":[],\n",
              "\"layers\":[{\n",
              "\"geom\":\"bar\",\n",
              "\"mapping\":{\n",
              "},\n",
              "\"position\":\"dodge\",\n",
              "\"data_meta\":{\n",
              "},\n",
              "\"data\":{\n",
              "\"..count..\":[2027.0,1446.0,1734.0,310.0,1413.0,113.0],\n",
              "\"Churn\":[\"No\",\"Yes\",\"No\",\"Yes\",\"No\",\"Yes\"],\n",
              "\"TechSupport\":[\"No\",\"No\",\"Yes\",\"Yes\",\"No internet service\",\"No internet service\"]\n",
              "}\n",
              "}],\n",
              "\"metainfo_list\":[]\n",
              "},{\n",
              "\"data\":{\n",
              "},\n",
              "\"mapping\":{\n",
              "\"x\":\"Churn\",\n",
              "\"fill\":\"Contract\"\n",
              "},\n",
              "\"data_meta\":{\n",
              "},\n",
              "\"kind\":\"plot\",\n",
              "\"scales\":[],\n",
              "\"layers\":[{\n",
              "\"geom\":\"bar\",\n",
              "\"mapping\":{\n",
              "},\n",
              "\"position\":\"dodge\",\n",
              "\"data_meta\":{\n",
              "},\n",
              "\"data\":{\n",
              "\"..count..\":[2220.0,1655.0,1307.0,166.0,1647.0,48.0],\n",
              "\"Churn\":[\"No\",\"Yes\",\"No\",\"Yes\",\"No\",\"Yes\"],\n",
              "\"Contract\":[\"Month-to-month\",\"Month-to-month\",\"One year\",\"One year\",\"Two year\",\"Two year\"]\n",
              "}\n",
              "}],\n",
              "\"metainfo_list\":[]\n",
              "}]\n",
              "};\n",
              "       var plotContainer = document.getElementById(\"v4g6W3\");\n",
              "       LetsPlot.buildPlotFromProcessedSpecs(plotSpec, -1, -1, plotContainer);\n",
              "   </script>\n",
              "   </body>\n",
              "</html>"
            ]
          },
          "metadata": {},
          "execution_count": 98
        }
      ]
    },
    {
      "cell_type": "markdown",
      "source": [
        "- **OnlineBackup**: From the graphs above we can see that customer who churned did not signup for onlineBackup.\n",
        "\n",
        "- **InternetService**: We can see that people who subscribed to fiber-optic churned probably because of the cost.\n",
        "\n",
        "- **TechSupport**: Customers who churned did not signup for TechSupport, hence did not receive TechSupport.\n",
        "\n",
        "- **Contract**: Customer on a month-by-month subscription churned than customers on other plans."
      ],
      "metadata": {
        "id": "26U4XxLTgLkR"
      }
    },
    {
      "cell_type": "markdown",
      "source": [
        "### Step 4 - Getting the Data ready"
      ],
      "metadata": {
        "id": "hCJHpdeTeb9C"
      }
    },
    {
      "cell_type": "markdown",
      "source": [
        "#### Data Cleaning"
      ],
      "metadata": {
        "id": "Arola4E2puYT"
      }
    },
    {
      "cell_type": "code",
      "source": [
        "# encoding categorical values\n",
        "cat_cols = churn.select(pl.col(pl.Utf8))"
      ],
      "metadata": {
        "id": "TaBnHk3Fc4jy"
      },
      "execution_count": null,
      "outputs": []
    },
    {
      "cell_type": "code",
      "source": [
        "cat_cols.head() # checking"
      ],
      "metadata": {
        "colab": {
          "base_uri": "https://localhost:8080/",
          "height": 414
        },
        "id": "jELH9yzrc4mJ",
        "outputId": "51968dcd-8c17-479a-931c-53c6cea2c9eb"
      },
      "execution_count": null,
      "outputs": [
        {
          "output_type": "execute_result",
          "data": {
            "text/plain": [
              "shape: (5, 17)\n",
              "┌────────────┬────────┬─────────┬────────────┬───┬───────────────┬────────────┬────────────┬───────┐\n",
              "│ customerID ┆ gender ┆ Partner ┆ Dependents ┆ … ┆ Contract      ┆ PaperlessB ┆ PaymentMet ┆ Churn │\n",
              "│ ---        ┆ ---    ┆ ---     ┆ ---        ┆   ┆ ---           ┆ illing     ┆ hod        ┆ ---   │\n",
              "│ str        ┆ str    ┆ str     ┆ str        ┆   ┆ str           ┆ ---        ┆ ---        ┆ str   │\n",
              "│            ┆        ┆         ┆            ┆   ┆               ┆ str        ┆ str        ┆       │\n",
              "╞════════════╪════════╪═════════╪════════════╪═══╪═══════════════╪════════════╪════════════╪═══════╡\n",
              "│ 7590-VHVEG ┆ Female ┆ Yes     ┆ No         ┆ … ┆ Month-to-mont ┆ Yes        ┆ Electronic ┆ No    │\n",
              "│            ┆        ┆         ┆            ┆   ┆ h             ┆            ┆ check      ┆       │\n",
              "│ 5575-GNVDE ┆ Male   ┆ No      ┆ No         ┆ … ┆ One year      ┆ No         ┆ Mailed     ┆ No    │\n",
              "│            ┆        ┆         ┆            ┆   ┆               ┆            ┆ check      ┆       │\n",
              "│ 3668-QPYBK ┆ Male   ┆ No      ┆ No         ┆ … ┆ Month-to-mont ┆ Yes        ┆ Mailed     ┆ Yes   │\n",
              "│            ┆        ┆         ┆            ┆   ┆ h             ┆            ┆ check      ┆       │\n",
              "│ 7795-CFOCW ┆ Male   ┆ No      ┆ No         ┆ … ┆ One year      ┆ No         ┆ Bank       ┆ No    │\n",
              "│            ┆        ┆         ┆            ┆   ┆               ┆            ┆ transfer   ┆       │\n",
              "│            ┆        ┆         ┆            ┆   ┆               ┆            ┆ (automatic ┆       │\n",
              "│            ┆        ┆         ┆            ┆   ┆               ┆            ┆ )          ┆       │\n",
              "│ 9237-HQITU ┆ Female ┆ No      ┆ No         ┆ … ┆ Month-to-mont ┆ Yes        ┆ Electronic ┆ Yes   │\n",
              "│            ┆        ┆         ┆            ┆   ┆ h             ┆            ┆ check      ┆       │\n",
              "└────────────┴────────┴─────────┴────────────┴───┴───────────────┴────────────┴────────────┴───────┘"
            ],
            "text/html": [
              "<div><style>\n",
              ".dataframe > thead > tr > th,\n",
              ".dataframe > tbody > tr > td {\n",
              "  text-align: right;\n",
              "}\n",
              "</style>\n",
              "<small>shape: (5, 17)</small><table border=\"1\" class=\"dataframe\"><thead><tr><th>customerID</th><th>gender</th><th>Partner</th><th>Dependents</th><th>PhoneService</th><th>MultipleLines</th><th>InternetService</th><th>OnlineSecurity</th><th>OnlineBackup</th><th>DeviceProtection</th><th>TechSupport</th><th>StreamingTV</th><th>StreamingMovies</th><th>Contract</th><th>PaperlessBilling</th><th>PaymentMethod</th><th>Churn</th></tr><tr><td>str</td><td>str</td><td>str</td><td>str</td><td>str</td><td>str</td><td>str</td><td>str</td><td>str</td><td>str</td><td>str</td><td>str</td><td>str</td><td>str</td><td>str</td><td>str</td><td>str</td></tr></thead><tbody><tr><td>&quot;7590-VHVEG&quot;</td><td>&quot;Female&quot;</td><td>&quot;Yes&quot;</td><td>&quot;No&quot;</td><td>&quot;No&quot;</td><td>&quot;No phone servi…</td><td>&quot;DSL&quot;</td><td>&quot;No&quot;</td><td>&quot;Yes&quot;</td><td>&quot;No&quot;</td><td>&quot;No&quot;</td><td>&quot;No&quot;</td><td>&quot;No&quot;</td><td>&quot;Month-to-month…</td><td>&quot;Yes&quot;</td><td>&quot;Electronic che…</td><td>&quot;No&quot;</td></tr><tr><td>&quot;5575-GNVDE&quot;</td><td>&quot;Male&quot;</td><td>&quot;No&quot;</td><td>&quot;No&quot;</td><td>&quot;Yes&quot;</td><td>&quot;No&quot;</td><td>&quot;DSL&quot;</td><td>&quot;Yes&quot;</td><td>&quot;No&quot;</td><td>&quot;Yes&quot;</td><td>&quot;No&quot;</td><td>&quot;No&quot;</td><td>&quot;No&quot;</td><td>&quot;One year&quot;</td><td>&quot;No&quot;</td><td>&quot;Mailed check&quot;</td><td>&quot;No&quot;</td></tr><tr><td>&quot;3668-QPYBK&quot;</td><td>&quot;Male&quot;</td><td>&quot;No&quot;</td><td>&quot;No&quot;</td><td>&quot;Yes&quot;</td><td>&quot;No&quot;</td><td>&quot;DSL&quot;</td><td>&quot;Yes&quot;</td><td>&quot;Yes&quot;</td><td>&quot;No&quot;</td><td>&quot;No&quot;</td><td>&quot;No&quot;</td><td>&quot;No&quot;</td><td>&quot;Month-to-month…</td><td>&quot;Yes&quot;</td><td>&quot;Mailed check&quot;</td><td>&quot;Yes&quot;</td></tr><tr><td>&quot;7795-CFOCW&quot;</td><td>&quot;Male&quot;</td><td>&quot;No&quot;</td><td>&quot;No&quot;</td><td>&quot;No&quot;</td><td>&quot;No phone servi…</td><td>&quot;DSL&quot;</td><td>&quot;Yes&quot;</td><td>&quot;No&quot;</td><td>&quot;Yes&quot;</td><td>&quot;Yes&quot;</td><td>&quot;No&quot;</td><td>&quot;No&quot;</td><td>&quot;One year&quot;</td><td>&quot;No&quot;</td><td>&quot;Bank transfer …</td><td>&quot;No&quot;</td></tr><tr><td>&quot;9237-HQITU&quot;</td><td>&quot;Female&quot;</td><td>&quot;No&quot;</td><td>&quot;No&quot;</td><td>&quot;Yes&quot;</td><td>&quot;No&quot;</td><td>&quot;Fiber optic&quot;</td><td>&quot;No&quot;</td><td>&quot;No&quot;</td><td>&quot;No&quot;</td><td>&quot;No&quot;</td><td>&quot;No&quot;</td><td>&quot;No&quot;</td><td>&quot;Month-to-month…</td><td>&quot;Yes&quot;</td><td>&quot;Electronic che…</td><td>&quot;Yes&quot;</td></tr></tbody></table></div>"
            ]
          },
          "metadata": {},
          "execution_count": 103
        }
      ]
    },
    {
      "cell_type": "code",
      "source": [
        "from sklearn import preprocessing\n",
        "\n",
        "encoder = preprocessing.LabelEncoder()\n",
        "\n",
        "cat_df = cat_cols.to_pandas().apply(encoder.fit_transform)\n"
      ],
      "metadata": {
        "id": "Itmm-RWcc4o5"
      },
      "execution_count": null,
      "outputs": []
    },
    {
      "cell_type": "code",
      "source": [
        "cat_df.head()"
      ],
      "metadata": {
        "colab": {
          "base_uri": "https://localhost:8080/",
          "height": 270
        },
        "id": "p0NAsvO3c4rB",
        "outputId": "d35b5165-0d84-4cbd-c178-e622b39aec43"
      },
      "execution_count": null,
      "outputs": [
        {
          "output_type": "execute_result",
          "data": {
            "text/plain": [
              "   customerID  gender  Partner  Dependents  PhoneService  MultipleLines  \\\n",
              "0        5375       0        1           0             0              1   \n",
              "1        3962       1        0           0             1              0   \n",
              "2        2564       1        0           0             1              0   \n",
              "3        5535       1        0           0             0              1   \n",
              "4        6511       0        0           0             1              0   \n",
              "\n",
              "   InternetService  OnlineSecurity  OnlineBackup  DeviceProtection  \\\n",
              "0                0               0             2                 0   \n",
              "1                0               2             0                 2   \n",
              "2                0               2             2                 0   \n",
              "3                0               2             0                 2   \n",
              "4                1               0             0                 0   \n",
              "\n",
              "   TechSupport  StreamingTV  StreamingMovies  Contract  PaperlessBilling  \\\n",
              "0            0            0                0         0                 1   \n",
              "1            0            0                0         1                 0   \n",
              "2            0            0                0         0                 1   \n",
              "3            2            0                0         1                 0   \n",
              "4            0            0                0         0                 1   \n",
              "\n",
              "   PaymentMethod  Churn  \n",
              "0              2      0  \n",
              "1              3      0  \n",
              "2              3      1  \n",
              "3              0      0  \n",
              "4              2      1  "
            ],
            "text/html": [
              "\n",
              "  <div id=\"df-9f85e53b-5897-4da3-9e22-b4eba91d1c02\">\n",
              "    <div class=\"colab-df-container\">\n",
              "      <div>\n",
              "<style scoped>\n",
              "    .dataframe tbody tr th:only-of-type {\n",
              "        vertical-align: middle;\n",
              "    }\n",
              "\n",
              "    .dataframe tbody tr th {\n",
              "        vertical-align: top;\n",
              "    }\n",
              "\n",
              "    .dataframe thead th {\n",
              "        text-align: right;\n",
              "    }\n",
              "</style>\n",
              "<table border=\"1\" class=\"dataframe\">\n",
              "  <thead>\n",
              "    <tr style=\"text-align: right;\">\n",
              "      <th></th>\n",
              "      <th>customerID</th>\n",
              "      <th>gender</th>\n",
              "      <th>Partner</th>\n",
              "      <th>Dependents</th>\n",
              "      <th>PhoneService</th>\n",
              "      <th>MultipleLines</th>\n",
              "      <th>InternetService</th>\n",
              "      <th>OnlineSecurity</th>\n",
              "      <th>OnlineBackup</th>\n",
              "      <th>DeviceProtection</th>\n",
              "      <th>TechSupport</th>\n",
              "      <th>StreamingTV</th>\n",
              "      <th>StreamingMovies</th>\n",
              "      <th>Contract</th>\n",
              "      <th>PaperlessBilling</th>\n",
              "      <th>PaymentMethod</th>\n",
              "      <th>Churn</th>\n",
              "    </tr>\n",
              "  </thead>\n",
              "  <tbody>\n",
              "    <tr>\n",
              "      <th>0</th>\n",
              "      <td>5375</td>\n",
              "      <td>0</td>\n",
              "      <td>1</td>\n",
              "      <td>0</td>\n",
              "      <td>0</td>\n",
              "      <td>1</td>\n",
              "      <td>0</td>\n",
              "      <td>0</td>\n",
              "      <td>2</td>\n",
              "      <td>0</td>\n",
              "      <td>0</td>\n",
              "      <td>0</td>\n",
              "      <td>0</td>\n",
              "      <td>0</td>\n",
              "      <td>1</td>\n",
              "      <td>2</td>\n",
              "      <td>0</td>\n",
              "    </tr>\n",
              "    <tr>\n",
              "      <th>1</th>\n",
              "      <td>3962</td>\n",
              "      <td>1</td>\n",
              "      <td>0</td>\n",
              "      <td>0</td>\n",
              "      <td>1</td>\n",
              "      <td>0</td>\n",
              "      <td>0</td>\n",
              "      <td>2</td>\n",
              "      <td>0</td>\n",
              "      <td>2</td>\n",
              "      <td>0</td>\n",
              "      <td>0</td>\n",
              "      <td>0</td>\n",
              "      <td>1</td>\n",
              "      <td>0</td>\n",
              "      <td>3</td>\n",
              "      <td>0</td>\n",
              "    </tr>\n",
              "    <tr>\n",
              "      <th>2</th>\n",
              "      <td>2564</td>\n",
              "      <td>1</td>\n",
              "      <td>0</td>\n",
              "      <td>0</td>\n",
              "      <td>1</td>\n",
              "      <td>0</td>\n",
              "      <td>0</td>\n",
              "      <td>2</td>\n",
              "      <td>2</td>\n",
              "      <td>0</td>\n",
              "      <td>0</td>\n",
              "      <td>0</td>\n",
              "      <td>0</td>\n",
              "      <td>0</td>\n",
              "      <td>1</td>\n",
              "      <td>3</td>\n",
              "      <td>1</td>\n",
              "    </tr>\n",
              "    <tr>\n",
              "      <th>3</th>\n",
              "      <td>5535</td>\n",
              "      <td>1</td>\n",
              "      <td>0</td>\n",
              "      <td>0</td>\n",
              "      <td>0</td>\n",
              "      <td>1</td>\n",
              "      <td>0</td>\n",
              "      <td>2</td>\n",
              "      <td>0</td>\n",
              "      <td>2</td>\n",
              "      <td>2</td>\n",
              "      <td>0</td>\n",
              "      <td>0</td>\n",
              "      <td>1</td>\n",
              "      <td>0</td>\n",
              "      <td>0</td>\n",
              "      <td>0</td>\n",
              "    </tr>\n",
              "    <tr>\n",
              "      <th>4</th>\n",
              "      <td>6511</td>\n",
              "      <td>0</td>\n",
              "      <td>0</td>\n",
              "      <td>0</td>\n",
              "      <td>1</td>\n",
              "      <td>0</td>\n",
              "      <td>1</td>\n",
              "      <td>0</td>\n",
              "      <td>0</td>\n",
              "      <td>0</td>\n",
              "      <td>0</td>\n",
              "      <td>0</td>\n",
              "      <td>0</td>\n",
              "      <td>0</td>\n",
              "      <td>1</td>\n",
              "      <td>2</td>\n",
              "      <td>1</td>\n",
              "    </tr>\n",
              "  </tbody>\n",
              "</table>\n",
              "</div>\n",
              "      <button class=\"colab-df-convert\" onclick=\"convertToInteractive('df-9f85e53b-5897-4da3-9e22-b4eba91d1c02')\"\n",
              "              title=\"Convert this dataframe to an interactive table.\"\n",
              "              style=\"display:none;\">\n",
              "        \n",
              "  <svg xmlns=\"http://www.w3.org/2000/svg\" height=\"24px\"viewBox=\"0 0 24 24\"\n",
              "       width=\"24px\">\n",
              "    <path d=\"M0 0h24v24H0V0z\" fill=\"none\"/>\n",
              "    <path d=\"M18.56 5.44l.94 2.06.94-2.06 2.06-.94-2.06-.94-.94-2.06-.94 2.06-2.06.94zm-11 1L8.5 8.5l.94-2.06 2.06-.94-2.06-.94L8.5 2.5l-.94 2.06-2.06.94zm10 10l.94 2.06.94-2.06 2.06-.94-2.06-.94-.94-2.06-.94 2.06-2.06.94z\"/><path d=\"M17.41 7.96l-1.37-1.37c-.4-.4-.92-.59-1.43-.59-.52 0-1.04.2-1.43.59L10.3 9.45l-7.72 7.72c-.78.78-.78 2.05 0 2.83L4 21.41c.39.39.9.59 1.41.59.51 0 1.02-.2 1.41-.59l7.78-7.78 2.81-2.81c.8-.78.8-2.07 0-2.86zM5.41 20L4 18.59l7.72-7.72 1.47 1.35L5.41 20z\"/>\n",
              "  </svg>\n",
              "      </button>\n",
              "      \n",
              "  <style>\n",
              "    .colab-df-container {\n",
              "      display:flex;\n",
              "      flex-wrap:wrap;\n",
              "      gap: 12px;\n",
              "    }\n",
              "\n",
              "    .colab-df-convert {\n",
              "      background-color: #E8F0FE;\n",
              "      border: none;\n",
              "      border-radius: 50%;\n",
              "      cursor: pointer;\n",
              "      display: none;\n",
              "      fill: #1967D2;\n",
              "      height: 32px;\n",
              "      padding: 0 0 0 0;\n",
              "      width: 32px;\n",
              "    }\n",
              "\n",
              "    .colab-df-convert:hover {\n",
              "      background-color: #E2EBFA;\n",
              "      box-shadow: 0px 1px 2px rgba(60, 64, 67, 0.3), 0px 1px 3px 1px rgba(60, 64, 67, 0.15);\n",
              "      fill: #174EA6;\n",
              "    }\n",
              "\n",
              "    [theme=dark] .colab-df-convert {\n",
              "      background-color: #3B4455;\n",
              "      fill: #D2E3FC;\n",
              "    }\n",
              "\n",
              "    [theme=dark] .colab-df-convert:hover {\n",
              "      background-color: #434B5C;\n",
              "      box-shadow: 0px 1px 3px 1px rgba(0, 0, 0, 0.15);\n",
              "      filter: drop-shadow(0px 1px 2px rgba(0, 0, 0, 0.3));\n",
              "      fill: #FFFFFF;\n",
              "    }\n",
              "  </style>\n",
              "\n",
              "      <script>\n",
              "        const buttonEl =\n",
              "          document.querySelector('#df-9f85e53b-5897-4da3-9e22-b4eba91d1c02 button.colab-df-convert');\n",
              "        buttonEl.style.display =\n",
              "          google.colab.kernel.accessAllowed ? 'block' : 'none';\n",
              "\n",
              "        async function convertToInteractive(key) {\n",
              "          const element = document.querySelector('#df-9f85e53b-5897-4da3-9e22-b4eba91d1c02');\n",
              "          const dataTable =\n",
              "            await google.colab.kernel.invokeFunction('convertToInteractive',\n",
              "                                                     [key], {});\n",
              "          if (!dataTable) return;\n",
              "\n",
              "          const docLinkHtml = 'Like what you see? Visit the ' +\n",
              "            '<a target=\"_blank\" href=https://colab.research.google.com/notebooks/data_table.ipynb>data table notebook</a>'\n",
              "            + ' to learn more about interactive tables.';\n",
              "          element.innerHTML = '';\n",
              "          dataTable['output_type'] = 'display_data';\n",
              "          await google.colab.output.renderOutput(dataTable, element);\n",
              "          const docLink = document.createElement('div');\n",
              "          docLink.innerHTML = docLinkHtml;\n",
              "          element.appendChild(docLink);\n",
              "        }\n",
              "      </script>\n",
              "    </div>\n",
              "  </div>\n",
              "  "
            ]
          },
          "metadata": {},
          "execution_count": 115
        }
      ]
    },
    {
      "cell_type": "code",
      "source": [
        "# numerical data\n",
        "num_cols = churn.select(pl.col([pl.Float64, pl.Int64]))"
      ],
      "metadata": {
        "id": "H2TjZk0kc4tJ"
      },
      "execution_count": null,
      "outputs": []
    },
    {
      "cell_type": "code",
      "source": [
        "num_cols.head()"
      ],
      "metadata": {
        "colab": {
          "base_uri": "https://localhost:8080/",
          "height": 255
        },
        "id": "VdoJ7TXQu-kI",
        "outputId": "5a1529d7-c59d-4eda-eab6-f8685d937ad2"
      },
      "execution_count": null,
      "outputs": [
        {
          "output_type": "execute_result",
          "data": {
            "text/plain": [
              "shape: (5, 4)\n",
              "┌───────────────┬────────┬────────────────┬──────────────┐\n",
              "│ SeniorCitizen ┆ tenure ┆ MonthlyCharges ┆ TotalCharges │\n",
              "│ ---           ┆ ---    ┆ ---            ┆ ---          │\n",
              "│ i64           ┆ i64    ┆ f64            ┆ f64          │\n",
              "╞═══════════════╪════════╪════════════════╪══════════════╡\n",
              "│ 0             ┆ 1      ┆ 29.85          ┆ 29.85        │\n",
              "│ 0             ┆ 34     ┆ 56.95          ┆ 1889.5       │\n",
              "│ 0             ┆ 2      ┆ 53.85          ┆ 108.15       │\n",
              "│ 0             ┆ 45     ┆ 42.3           ┆ 1840.75      │\n",
              "│ 0             ┆ 2      ┆ 70.7           ┆ 151.65       │\n",
              "└───────────────┴────────┴────────────────┴──────────────┘"
            ],
            "text/html": [
              "<div><style>\n",
              ".dataframe > thead > tr > th,\n",
              ".dataframe > tbody > tr > td {\n",
              "  text-align: right;\n",
              "}\n",
              "</style>\n",
              "<small>shape: (5, 4)</small><table border=\"1\" class=\"dataframe\"><thead><tr><th>SeniorCitizen</th><th>tenure</th><th>MonthlyCharges</th><th>TotalCharges</th></tr><tr><td>i64</td><td>i64</td><td>f64</td><td>f64</td></tr></thead><tbody><tr><td>0</td><td>1</td><td>29.85</td><td>29.85</td></tr><tr><td>0</td><td>34</td><td>56.95</td><td>1889.5</td></tr><tr><td>0</td><td>2</td><td>53.85</td><td>108.15</td></tr><tr><td>0</td><td>45</td><td>42.3</td><td>1840.75</td></tr><tr><td>0</td><td>2</td><td>70.7</td><td>151.65</td></tr></tbody></table></div>"
            ]
          },
          "metadata": {},
          "execution_count": 119
        }
      ]
    },
    {
      "cell_type": "code",
      "source": [
        "type(cat_df)"
      ],
      "metadata": {
        "colab": {
          "base_uri": "https://localhost:8080/"
        },
        "id": "Dy6FUPi1v9gF",
        "outputId": "aeb988af-cf12-4b55-e98e-7db3e30cc1db"
      },
      "execution_count": null,
      "outputs": [
        {
          "output_type": "execute_result",
          "data": {
            "text/plain": [
              "pandas.core.frame.DataFrame"
            ]
          },
          "metadata": {},
          "execution_count": 125
        }
      ]
    },
    {
      "cell_type": "code",
      "source": [
        "import pandas as pd\n",
        "\n",
        "#merge the two dfs\n",
        "final_df = pd.merge(num_cols.to_pandas(), cat_df, left_index=True, right_index=True)"
      ],
      "metadata": {
        "id": "voF-IOFnvVFa"
      },
      "execution_count": null,
      "outputs": []
    },
    {
      "cell_type": "code",
      "source": [
        "final_df.head()"
      ],
      "metadata": {
        "colab": {
          "base_uri": "https://localhost:8080/",
          "height": 299
        },
        "id": "abDv0KdhvVH8",
        "outputId": "107907e6-04b5-47c5-e40f-3ce2bd382d67"
      },
      "execution_count": null,
      "outputs": [
        {
          "output_type": "execute_result",
          "data": {
            "text/plain": [
              "   SeniorCitizen  tenure  MonthlyCharges  TotalCharges  customerID  gender  \\\n",
              "0              0       1           29.85         29.85        5375       0   \n",
              "1              0      34           56.95       1889.50        3962       1   \n",
              "2              0       2           53.85        108.15        2564       1   \n",
              "3              0      45           42.30       1840.75        5535       1   \n",
              "4              0       2           70.70        151.65        6511       0   \n",
              "\n",
              "   Partner  Dependents  PhoneService  MultipleLines  ...  OnlineSecurity  \\\n",
              "0        1           0             0              1  ...               0   \n",
              "1        0           0             1              0  ...               2   \n",
              "2        0           0             1              0  ...               2   \n",
              "3        0           0             0              1  ...               2   \n",
              "4        0           0             1              0  ...               0   \n",
              "\n",
              "   OnlineBackup  DeviceProtection  TechSupport  StreamingTV  StreamingMovies  \\\n",
              "0             2                 0            0            0                0   \n",
              "1             0                 2            0            0                0   \n",
              "2             2                 0            0            0                0   \n",
              "3             0                 2            2            0                0   \n",
              "4             0                 0            0            0                0   \n",
              "\n",
              "   Contract  PaperlessBilling  PaymentMethod  Churn  \n",
              "0         0                 1              2      0  \n",
              "1         1                 0              3      0  \n",
              "2         0                 1              3      1  \n",
              "3         1                 0              0      0  \n",
              "4         0                 1              2      1  \n",
              "\n",
              "[5 rows x 21 columns]"
            ],
            "text/html": [
              "\n",
              "  <div id=\"df-07b98741-324e-4097-a6d1-7d729b715113\">\n",
              "    <div class=\"colab-df-container\">\n",
              "      <div>\n",
              "<style scoped>\n",
              "    .dataframe tbody tr th:only-of-type {\n",
              "        vertical-align: middle;\n",
              "    }\n",
              "\n",
              "    .dataframe tbody tr th {\n",
              "        vertical-align: top;\n",
              "    }\n",
              "\n",
              "    .dataframe thead th {\n",
              "        text-align: right;\n",
              "    }\n",
              "</style>\n",
              "<table border=\"1\" class=\"dataframe\">\n",
              "  <thead>\n",
              "    <tr style=\"text-align: right;\">\n",
              "      <th></th>\n",
              "      <th>SeniorCitizen</th>\n",
              "      <th>tenure</th>\n",
              "      <th>MonthlyCharges</th>\n",
              "      <th>TotalCharges</th>\n",
              "      <th>customerID</th>\n",
              "      <th>gender</th>\n",
              "      <th>Partner</th>\n",
              "      <th>Dependents</th>\n",
              "      <th>PhoneService</th>\n",
              "      <th>MultipleLines</th>\n",
              "      <th>...</th>\n",
              "      <th>OnlineSecurity</th>\n",
              "      <th>OnlineBackup</th>\n",
              "      <th>DeviceProtection</th>\n",
              "      <th>TechSupport</th>\n",
              "      <th>StreamingTV</th>\n",
              "      <th>StreamingMovies</th>\n",
              "      <th>Contract</th>\n",
              "      <th>PaperlessBilling</th>\n",
              "      <th>PaymentMethod</th>\n",
              "      <th>Churn</th>\n",
              "    </tr>\n",
              "  </thead>\n",
              "  <tbody>\n",
              "    <tr>\n",
              "      <th>0</th>\n",
              "      <td>0</td>\n",
              "      <td>1</td>\n",
              "      <td>29.85</td>\n",
              "      <td>29.85</td>\n",
              "      <td>5375</td>\n",
              "      <td>0</td>\n",
              "      <td>1</td>\n",
              "      <td>0</td>\n",
              "      <td>0</td>\n",
              "      <td>1</td>\n",
              "      <td>...</td>\n",
              "      <td>0</td>\n",
              "      <td>2</td>\n",
              "      <td>0</td>\n",
              "      <td>0</td>\n",
              "      <td>0</td>\n",
              "      <td>0</td>\n",
              "      <td>0</td>\n",
              "      <td>1</td>\n",
              "      <td>2</td>\n",
              "      <td>0</td>\n",
              "    </tr>\n",
              "    <tr>\n",
              "      <th>1</th>\n",
              "      <td>0</td>\n",
              "      <td>34</td>\n",
              "      <td>56.95</td>\n",
              "      <td>1889.50</td>\n",
              "      <td>3962</td>\n",
              "      <td>1</td>\n",
              "      <td>0</td>\n",
              "      <td>0</td>\n",
              "      <td>1</td>\n",
              "      <td>0</td>\n",
              "      <td>...</td>\n",
              "      <td>2</td>\n",
              "      <td>0</td>\n",
              "      <td>2</td>\n",
              "      <td>0</td>\n",
              "      <td>0</td>\n",
              "      <td>0</td>\n",
              "      <td>1</td>\n",
              "      <td>0</td>\n",
              "      <td>3</td>\n",
              "      <td>0</td>\n",
              "    </tr>\n",
              "    <tr>\n",
              "      <th>2</th>\n",
              "      <td>0</td>\n",
              "      <td>2</td>\n",
              "      <td>53.85</td>\n",
              "      <td>108.15</td>\n",
              "      <td>2564</td>\n",
              "      <td>1</td>\n",
              "      <td>0</td>\n",
              "      <td>0</td>\n",
              "      <td>1</td>\n",
              "      <td>0</td>\n",
              "      <td>...</td>\n",
              "      <td>2</td>\n",
              "      <td>2</td>\n",
              "      <td>0</td>\n",
              "      <td>0</td>\n",
              "      <td>0</td>\n",
              "      <td>0</td>\n",
              "      <td>0</td>\n",
              "      <td>1</td>\n",
              "      <td>3</td>\n",
              "      <td>1</td>\n",
              "    </tr>\n",
              "    <tr>\n",
              "      <th>3</th>\n",
              "      <td>0</td>\n",
              "      <td>45</td>\n",
              "      <td>42.30</td>\n",
              "      <td>1840.75</td>\n",
              "      <td>5535</td>\n",
              "      <td>1</td>\n",
              "      <td>0</td>\n",
              "      <td>0</td>\n",
              "      <td>0</td>\n",
              "      <td>1</td>\n",
              "      <td>...</td>\n",
              "      <td>2</td>\n",
              "      <td>0</td>\n",
              "      <td>2</td>\n",
              "      <td>2</td>\n",
              "      <td>0</td>\n",
              "      <td>0</td>\n",
              "      <td>1</td>\n",
              "      <td>0</td>\n",
              "      <td>0</td>\n",
              "      <td>0</td>\n",
              "    </tr>\n",
              "    <tr>\n",
              "      <th>4</th>\n",
              "      <td>0</td>\n",
              "      <td>2</td>\n",
              "      <td>70.70</td>\n",
              "      <td>151.65</td>\n",
              "      <td>6511</td>\n",
              "      <td>0</td>\n",
              "      <td>0</td>\n",
              "      <td>0</td>\n",
              "      <td>1</td>\n",
              "      <td>0</td>\n",
              "      <td>...</td>\n",
              "      <td>0</td>\n",
              "      <td>0</td>\n",
              "      <td>0</td>\n",
              "      <td>0</td>\n",
              "      <td>0</td>\n",
              "      <td>0</td>\n",
              "      <td>0</td>\n",
              "      <td>1</td>\n",
              "      <td>2</td>\n",
              "      <td>1</td>\n",
              "    </tr>\n",
              "  </tbody>\n",
              "</table>\n",
              "<p>5 rows × 21 columns</p>\n",
              "</div>\n",
              "      <button class=\"colab-df-convert\" onclick=\"convertToInteractive('df-07b98741-324e-4097-a6d1-7d729b715113')\"\n",
              "              title=\"Convert this dataframe to an interactive table.\"\n",
              "              style=\"display:none;\">\n",
              "        \n",
              "  <svg xmlns=\"http://www.w3.org/2000/svg\" height=\"24px\"viewBox=\"0 0 24 24\"\n",
              "       width=\"24px\">\n",
              "    <path d=\"M0 0h24v24H0V0z\" fill=\"none\"/>\n",
              "    <path d=\"M18.56 5.44l.94 2.06.94-2.06 2.06-.94-2.06-.94-.94-2.06-.94 2.06-2.06.94zm-11 1L8.5 8.5l.94-2.06 2.06-.94-2.06-.94L8.5 2.5l-.94 2.06-2.06.94zm10 10l.94 2.06.94-2.06 2.06-.94-2.06-.94-.94-2.06-.94 2.06-2.06.94z\"/><path d=\"M17.41 7.96l-1.37-1.37c-.4-.4-.92-.59-1.43-.59-.52 0-1.04.2-1.43.59L10.3 9.45l-7.72 7.72c-.78.78-.78 2.05 0 2.83L4 21.41c.39.39.9.59 1.41.59.51 0 1.02-.2 1.41-.59l7.78-7.78 2.81-2.81c.8-.78.8-2.07 0-2.86zM5.41 20L4 18.59l7.72-7.72 1.47 1.35L5.41 20z\"/>\n",
              "  </svg>\n",
              "      </button>\n",
              "      \n",
              "  <style>\n",
              "    .colab-df-container {\n",
              "      display:flex;\n",
              "      flex-wrap:wrap;\n",
              "      gap: 12px;\n",
              "    }\n",
              "\n",
              "    .colab-df-convert {\n",
              "      background-color: #E8F0FE;\n",
              "      border: none;\n",
              "      border-radius: 50%;\n",
              "      cursor: pointer;\n",
              "      display: none;\n",
              "      fill: #1967D2;\n",
              "      height: 32px;\n",
              "      padding: 0 0 0 0;\n",
              "      width: 32px;\n",
              "    }\n",
              "\n",
              "    .colab-df-convert:hover {\n",
              "      background-color: #E2EBFA;\n",
              "      box-shadow: 0px 1px 2px rgba(60, 64, 67, 0.3), 0px 1px 3px 1px rgba(60, 64, 67, 0.15);\n",
              "      fill: #174EA6;\n",
              "    }\n",
              "\n",
              "    [theme=dark] .colab-df-convert {\n",
              "      background-color: #3B4455;\n",
              "      fill: #D2E3FC;\n",
              "    }\n",
              "\n",
              "    [theme=dark] .colab-df-convert:hover {\n",
              "      background-color: #434B5C;\n",
              "      box-shadow: 0px 1px 3px 1px rgba(0, 0, 0, 0.15);\n",
              "      filter: drop-shadow(0px 1px 2px rgba(0, 0, 0, 0.3));\n",
              "      fill: #FFFFFF;\n",
              "    }\n",
              "  </style>\n",
              "\n",
              "      <script>\n",
              "        const buttonEl =\n",
              "          document.querySelector('#df-07b98741-324e-4097-a6d1-7d729b715113 button.colab-df-convert');\n",
              "        buttonEl.style.display =\n",
              "          google.colab.kernel.accessAllowed ? 'block' : 'none';\n",
              "\n",
              "        async function convertToInteractive(key) {\n",
              "          const element = document.querySelector('#df-07b98741-324e-4097-a6d1-7d729b715113');\n",
              "          const dataTable =\n",
              "            await google.colab.kernel.invokeFunction('convertToInteractive',\n",
              "                                                     [key], {});\n",
              "          if (!dataTable) return;\n",
              "\n",
              "          const docLinkHtml = 'Like what you see? Visit the ' +\n",
              "            '<a target=\"_blank\" href=https://colab.research.google.com/notebooks/data_table.ipynb>data table notebook</a>'\n",
              "            + ' to learn more about interactive tables.';\n",
              "          element.innerHTML = '';\n",
              "          dataTable['output_type'] = 'display_data';\n",
              "          await google.colab.output.renderOutput(dataTable, element);\n",
              "          const docLink = document.createElement('div');\n",
              "          docLink.innerHTML = docLinkHtml;\n",
              "          element.appendChild(docLink);\n",
              "        }\n",
              "      </script>\n",
              "    </div>\n",
              "  </div>\n",
              "  "
            ]
          },
          "metadata": {},
          "execution_count": 135
        }
      ]
    },
    {
      "cell_type": "markdown",
      "source": [
        "### Dealing with Imbalance\n",
        "\n",
        "We realized that our target variable is imbalanced(meaning there more of one class than the other). This can significantly skew our model's accuracy on onseen data. That is why we need to deal with it immedidately.\n",
        "\n",
        "There several ways of dealing with class imbalance but will we will use the oversample approach. In this approach involves randomly selecting samples from the minority class and adding it to the training data. We will use the `imblearn` library for this after splitting out data."
      ],
      "metadata": {
        "id": "R5AJgt5swTgC"
      }
    },
    {
      "cell_type": "code",
      "source": [
        "# drop NAs and customerID column\n",
        "final_df = final_df.dropna()\n",
        "final_df = final_df.drop(['customerID'],axis=1)"
      ],
      "metadata": {
        "id": "nOq66teovVKs"
      },
      "execution_count": null,
      "outputs": []
    },
    {
      "cell_type": "code",
      "source": [
        "# split the data\n",
        "from sklearn.model_selection import train_test_split\n",
        "\n",
        "X = final_df.drop(['Churn'], axis=1)\n",
        "y = final_df['Churn']\n",
        "\n",
        "X_train, X_test, y_train, y_test = train_test_split(X, y, test_size=0.33,\n",
        "                                                    random_state=42)"
      ],
      "metadata": {
        "id": "z9ttmd0mx4ny"
      },
      "execution_count": null,
      "outputs": []
    },
    {
      "cell_type": "code",
      "source": [
        "!pip install imblearn"
      ],
      "metadata": {
        "colab": {
          "base_uri": "https://localhost:8080/"
        },
        "id": "vT_mCrwnyvEY",
        "outputId": "a90085bf-cba5-437b-a058-ccce68dd9804"
      },
      "execution_count": null,
      "outputs": [
        {
          "output_type": "stream",
          "name": "stdout",
          "text": [
            "Collecting imblearn\n",
            "  Downloading imblearn-0.0-py2.py3-none-any.whl (1.9 kB)\n",
            "Requirement already satisfied: imbalanced-learn in /usr/local/lib/python3.10/dist-packages (from imblearn) (0.10.1)\n",
            "Requirement already satisfied: numpy>=1.17.3 in /usr/local/lib/python3.10/dist-packages (from imbalanced-learn->imblearn) (1.22.4)\n",
            "Requirement already satisfied: scipy>=1.3.2 in /usr/local/lib/python3.10/dist-packages (from imbalanced-learn->imblearn) (1.10.1)\n",
            "Requirement already satisfied: scikit-learn>=1.0.2 in /usr/local/lib/python3.10/dist-packages (from imbalanced-learn->imblearn) (1.2.2)\n",
            "Requirement already satisfied: joblib>=1.1.1 in /usr/local/lib/python3.10/dist-packages (from imbalanced-learn->imblearn) (1.2.0)\n",
            "Requirement already satisfied: threadpoolctl>=2.0.0 in /usr/local/lib/python3.10/dist-packages (from imbalanced-learn->imblearn) (3.1.0)\n",
            "Installing collected packages: imblearn\n",
            "Successfully installed imblearn-0.0\n"
          ]
        }
      ]
    },
    {
      "cell_type": "code",
      "source": [
        "# oversampling\n",
        "from imblearn.over_sampling import SMOTE\n",
        "\n",
        "oversample = SMOTE(k_neighbors=5)\n",
        "\n",
        "X_smote, y_smote = oversample.fit_resample(X_train, y_train)\n",
        "X_train, y_train = X_smote, y_smote"
      ],
      "metadata": {
        "id": "ayFH6jfCx4pq"
      },
      "execution_count": null,
      "outputs": []
    },
    {
      "cell_type": "code",
      "source": [
        "y_train.value_counts()# balanced"
      ],
      "metadata": {
        "colab": {
          "base_uri": "https://localhost:8080/"
        },
        "id": "QTeoayTHx4sN",
        "outputId": "bfd29fea-7eff-4134-bf38-8f299841a6cb"
      },
      "execution_count": null,
      "outputs": [
        {
          "output_type": "execute_result",
          "data": {
            "text/plain": [
              "0    3452\n",
              "1    3452\n",
              "Name: Churn, dtype: int64"
            ]
          },
          "metadata": {},
          "execution_count": 143
        }
      ]
    },
    {
      "cell_type": "markdown",
      "source": [
        "### Step 5 - Building The Churn Model"
      ],
      "metadata": {
        "id": "jo6pd_E6zJgF"
      }
    },
    {
      "cell_type": "code",
      "source": [
        "# using a Random forest\n",
        "from sklearn.ensemble import RandomForestClassifier\n",
        "\n",
        "rf = RandomForestClassifier(random_state=46)\n",
        "\n",
        "rf.fit(X_train,y_train)"
      ],
      "metadata": {
        "colab": {
          "base_uri": "https://localhost:8080/",
          "height": 74
        },
        "id": "FPg_xFSzx4un",
        "outputId": "53985dfd-d08a-4801-feb0-9122e0f29fd8"
      },
      "execution_count": null,
      "outputs": [
        {
          "output_type": "execute_result",
          "data": {
            "text/plain": [
              "RandomForestClassifier(random_state=46)"
            ],
            "text/html": [
              "<style>#sk-container-id-7 {color: black;background-color: white;}#sk-container-id-7 pre{padding: 0;}#sk-container-id-7 div.sk-toggleable {background-color: white;}#sk-container-id-7 label.sk-toggleable__label {cursor: pointer;display: block;width: 100%;margin-bottom: 0;padding: 0.3em;box-sizing: border-box;text-align: center;}#sk-container-id-7 label.sk-toggleable__label-arrow:before {content: \"▸\";float: left;margin-right: 0.25em;color: #696969;}#sk-container-id-7 label.sk-toggleable__label-arrow:hover:before {color: black;}#sk-container-id-7 div.sk-estimator:hover label.sk-toggleable__label-arrow:before {color: black;}#sk-container-id-7 div.sk-toggleable__content {max-height: 0;max-width: 0;overflow: hidden;text-align: left;background-color: #f0f8ff;}#sk-container-id-7 div.sk-toggleable__content pre {margin: 0.2em;color: black;border-radius: 0.25em;background-color: #f0f8ff;}#sk-container-id-7 input.sk-toggleable__control:checked~div.sk-toggleable__content {max-height: 200px;max-width: 100%;overflow: auto;}#sk-container-id-7 input.sk-toggleable__control:checked~label.sk-toggleable__label-arrow:before {content: \"▾\";}#sk-container-id-7 div.sk-estimator input.sk-toggleable__control:checked~label.sk-toggleable__label {background-color: #d4ebff;}#sk-container-id-7 div.sk-label input.sk-toggleable__control:checked~label.sk-toggleable__label {background-color: #d4ebff;}#sk-container-id-7 input.sk-hidden--visually {border: 0;clip: rect(1px 1px 1px 1px);clip: rect(1px, 1px, 1px, 1px);height: 1px;margin: -1px;overflow: hidden;padding: 0;position: absolute;width: 1px;}#sk-container-id-7 div.sk-estimator {font-family: monospace;background-color: #f0f8ff;border: 1px dotted black;border-radius: 0.25em;box-sizing: border-box;margin-bottom: 0.5em;}#sk-container-id-7 div.sk-estimator:hover {background-color: #d4ebff;}#sk-container-id-7 div.sk-parallel-item::after {content: \"\";width: 100%;border-bottom: 1px solid gray;flex-grow: 1;}#sk-container-id-7 div.sk-label:hover label.sk-toggleable__label {background-color: #d4ebff;}#sk-container-id-7 div.sk-serial::before {content: \"\";position: absolute;border-left: 1px solid gray;box-sizing: border-box;top: 0;bottom: 0;left: 50%;z-index: 0;}#sk-container-id-7 div.sk-serial {display: flex;flex-direction: column;align-items: center;background-color: white;padding-right: 0.2em;padding-left: 0.2em;position: relative;}#sk-container-id-7 div.sk-item {position: relative;z-index: 1;}#sk-container-id-7 div.sk-parallel {display: flex;align-items: stretch;justify-content: center;background-color: white;position: relative;}#sk-container-id-7 div.sk-item::before, #sk-container-id-7 div.sk-parallel-item::before {content: \"\";position: absolute;border-left: 1px solid gray;box-sizing: border-box;top: 0;bottom: 0;left: 50%;z-index: -1;}#sk-container-id-7 div.sk-parallel-item {display: flex;flex-direction: column;z-index: 1;position: relative;background-color: white;}#sk-container-id-7 div.sk-parallel-item:first-child::after {align-self: flex-end;width: 50%;}#sk-container-id-7 div.sk-parallel-item:last-child::after {align-self: flex-start;width: 50%;}#sk-container-id-7 div.sk-parallel-item:only-child::after {width: 0;}#sk-container-id-7 div.sk-dashed-wrapped {border: 1px dashed gray;margin: 0 0.4em 0.5em 0.4em;box-sizing: border-box;padding-bottom: 0.4em;background-color: white;}#sk-container-id-7 div.sk-label label {font-family: monospace;font-weight: bold;display: inline-block;line-height: 1.2em;}#sk-container-id-7 div.sk-label-container {text-align: center;}#sk-container-id-7 div.sk-container {/* jupyter's `normalize.less` sets `[hidden] { display: none; }` but bootstrap.min.css set `[hidden] { display: none !important; }` so we also need the `!important` here to be able to override the default hidden behavior on the sphinx rendered scikit-learn.org. See: https://github.com/scikit-learn/scikit-learn/issues/21755 */display: inline-block !important;position: relative;}#sk-container-id-7 div.sk-text-repr-fallback {display: none;}</style><div id=\"sk-container-id-7\" class=\"sk-top-container\"><div class=\"sk-text-repr-fallback\"><pre>RandomForestClassifier(random_state=46)</pre><b>In a Jupyter environment, please rerun this cell to show the HTML representation or trust the notebook. <br />On GitHub, the HTML representation is unable to render, please try loading this page with nbviewer.org.</b></div><div class=\"sk-container\" hidden><div class=\"sk-item\"><div class=\"sk-estimator sk-toggleable\"><input class=\"sk-toggleable__control sk-hidden--visually\" id=\"sk-estimator-id-7\" type=\"checkbox\" checked><label for=\"sk-estimator-id-7\" class=\"sk-toggleable__label sk-toggleable__label-arrow\">RandomForestClassifier</label><div class=\"sk-toggleable__content\"><pre>RandomForestClassifier(random_state=46)</pre></div></div></div></div></div>"
            ]
          },
          "metadata": {},
          "execution_count": 161
        }
      ]
    },
    {
      "cell_type": "markdown",
      "source": [
        "### Step 6 - Model Evaluation"
      ],
      "metadata": {
        "id": "tS-85AvV0K6m"
      }
    },
    {
      "cell_type": "code",
      "source": [
        "from sklearn.metrics import accuracy_score\n",
        "\n",
        "preds = rf.predict(X_test)\n",
        "print(f\"Model Accuracy: {round(accuracy_score(preds,y_test), 2)}%\")\n"
      ],
      "metadata": {
        "colab": {
          "base_uri": "https://localhost:8080/"
        },
        "id": "mnchBPnnx4yF",
        "outputId": "7fb45c9d-9a9f-4df6-fd34-f0a47281e6c1"
      },
      "execution_count": null,
      "outputs": [
        {
          "output_type": "stream",
          "name": "stdout",
          "text": [
            "Model Accuracy: 0.77%\n"
          ]
        }
      ]
    },
    {
      "cell_type": "markdown",
      "source": [
        "### Other Models"
      ],
      "metadata": {
        "id": "IAffYodY2S2f"
      }
    },
    {
      "cell_type": "code",
      "source": [
        "# using LightGBM\n",
        "!pip install lightgbm"
      ],
      "metadata": {
        "colab": {
          "base_uri": "https://localhost:8080/"
        },
        "id": "ccYtaQKq1J_O",
        "outputId": "c9970695-542a-4e44-ac2b-b78223976805"
      },
      "execution_count": null,
      "outputs": [
        {
          "output_type": "stream",
          "name": "stdout",
          "text": [
            "Requirement already satisfied: lightgbm in /usr/local/lib/python3.10/dist-packages (3.3.5)\n",
            "Requirement already satisfied: wheel in /usr/local/lib/python3.10/dist-packages (from lightgbm) (0.40.0)\n",
            "Requirement already satisfied: numpy in /usr/local/lib/python3.10/dist-packages (from lightgbm) (1.22.4)\n",
            "Requirement already satisfied: scipy in /usr/local/lib/python3.10/dist-packages (from lightgbm) (1.10.1)\n",
            "Requirement already satisfied: scikit-learn!=0.22.0 in /usr/local/lib/python3.10/dist-packages (from lightgbm) (1.2.2)\n",
            "Requirement already satisfied: joblib>=1.1.1 in /usr/local/lib/python3.10/dist-packages (from scikit-learn!=0.22.0->lightgbm) (1.2.0)\n",
            "Requirement already satisfied: threadpoolctl>=2.0.0 in /usr/local/lib/python3.10/dist-packages (from scikit-learn!=0.22.0->lightgbm) (3.1.0)\n"
          ]
        }
      ]
    },
    {
      "cell_type": "code",
      "source": [
        "# lightGBM\n",
        "from lightgbm import LGBMClassifier\n",
        "\n",
        "gbm = LGBMClassifier(boosting_type='gbdt', n_estimators=200,\n",
        "                     max_depth=1, early_stopping=20)\n",
        "\n",
        "\n",
        "gbm.fit(X_train, y_train, eval_set=[(X_test, y_test)], eval_metric='acc')"
      ],
      "metadata": {
        "colab": {
          "base_uri": "https://localhost:8080/",
          "height": 1000
        },
        "id": "fXrRF8fax40Y",
        "outputId": "1e6cec33-582f-49b4-e11a-97f217bbe67d"
      },
      "execution_count": null,
      "outputs": [
        {
          "output_type": "stream",
          "name": "stdout",
          "text": [
            "[LightGBM] [Warning] early_stopping_round is set=20, early_stopping=20 will be ignored. Current value: early_stopping_round=20\n",
            "[1]\tvalid_0's binary_logloss: 0.669055\n",
            "[2]\tvalid_0's binary_logloss: 0.650253\n",
            "[3]\tvalid_0's binary_logloss: 0.635474\n",
            "[4]\tvalid_0's binary_logloss: 0.623811\n",
            "[5]\tvalid_0's binary_logloss: 0.614591\n",
            "[6]\tvalid_0's binary_logloss: 0.607306\n",
            "[7]\tvalid_0's binary_logloss: 0.598785\n",
            "[8]\tvalid_0's binary_logloss: 0.593563\n",
            "[9]\tvalid_0's binary_logloss: 0.587152\n",
            "[10]\tvalid_0's binary_logloss: 0.58342\n",
            "[11]\tvalid_0's binary_logloss: 0.577901\n",
            "[12]\tvalid_0's binary_logloss: 0.573511\n",
            "[13]\tvalid_0's binary_logloss: 0.571132\n",
            "[14]\tvalid_0's binary_logloss: 0.568225\n",
            "[15]\tvalid_0's binary_logloss: 0.565206\n",
            "[16]\tvalid_0's binary_logloss: 0.561613\n",
            "[17]\tvalid_0's binary_logloss: 0.558241\n",
            "[18]\tvalid_0's binary_logloss: 0.556276\n",
            "[19]\tvalid_0's binary_logloss: 0.554029\n",
            "[20]\tvalid_0's binary_logloss: 0.551132\n",
            "[21]\tvalid_0's binary_logloss: 0.549249\n",
            "[22]\tvalid_0's binary_logloss: 0.547723\n",
            "[23]\tvalid_0's binary_logloss: 0.545871\n",
            "[24]\tvalid_0's binary_logloss: 0.544632\n",
            "[25]\tvalid_0's binary_logloss: 0.542327\n",
            "[26]\tvalid_0's binary_logloss: 0.540794\n",
            "[27]\tvalid_0's binary_logloss: 0.53921\n",
            "[28]\tvalid_0's binary_logloss: 0.537891\n",
            "[29]\tvalid_0's binary_logloss: 0.536953\n",
            "[30]\tvalid_0's binary_logloss: 0.535323\n",
            "[31]\tvalid_0's binary_logloss: 0.53338\n",
            "[32]\tvalid_0's binary_logloss: 0.532206\n",
            "[33]\tvalid_0's binary_logloss: 0.530632\n",
            "[34]\tvalid_0's binary_logloss: 0.529989\n",
            "[35]\tvalid_0's binary_logloss: 0.528962\n",
            "[36]\tvalid_0's binary_logloss: 0.527434\n",
            "[37]\tvalid_0's binary_logloss: 0.526876\n",
            "[38]\tvalid_0's binary_logloss: 0.525636\n",
            "[39]\tvalid_0's binary_logloss: 0.524815\n",
            "[40]\tvalid_0's binary_logloss: 0.523596\n",
            "[41]\tvalid_0's binary_logloss: 0.522592\n",
            "[42]\tvalid_0's binary_logloss: 0.521875\n",
            "[43]\tvalid_0's binary_logloss: 0.521249\n",
            "[44]\tvalid_0's binary_logloss: 0.520954\n",
            "[45]\tvalid_0's binary_logloss: 0.519868\n",
            "[46]\tvalid_0's binary_logloss: 0.518715\n",
            "[47]\tvalid_0's binary_logloss: 0.518434\n",
            "[48]\tvalid_0's binary_logloss: 0.517654\n",
            "[49]\tvalid_0's binary_logloss: 0.516671\n",
            "[50]\tvalid_0's binary_logloss: 0.515795\n",
            "[51]\tvalid_0's binary_logloss: 0.51525\n",
            "[52]\tvalid_0's binary_logloss: 0.514809\n",
            "[53]\tvalid_0's binary_logloss: 0.513941\n",
            "[54]\tvalid_0's binary_logloss: 0.513211\n",
            "[55]\tvalid_0's binary_logloss: 0.512201\n",
            "[56]\tvalid_0's binary_logloss: 0.511377\n",
            "[57]\tvalid_0's binary_logloss: 0.510628\n",
            "[58]\tvalid_0's binary_logloss: 0.509984\n",
            "[59]\tvalid_0's binary_logloss: 0.509191\n",
            "[60]\tvalid_0's binary_logloss: 0.508801\n",
            "[61]\tvalid_0's binary_logloss: 0.508129\n",
            "[62]\tvalid_0's binary_logloss: 0.508035\n",
            "[63]\tvalid_0's binary_logloss: 0.507503\n",
            "[64]\tvalid_0's binary_logloss: 0.506795\n",
            "[65]\tvalid_0's binary_logloss: 0.506508\n",
            "[66]\tvalid_0's binary_logloss: 0.505879\n",
            "[67]\tvalid_0's binary_logloss: 0.505362\n",
            "[68]\tvalid_0's binary_logloss: 0.505018\n",
            "[69]\tvalid_0's binary_logloss: 0.504415\n",
            "[70]\tvalid_0's binary_logloss: 0.503827\n",
            "[71]\tvalid_0's binary_logloss: 0.50386\n",
            "[72]\tvalid_0's binary_logloss: 0.503367\n",
            "[73]\tvalid_0's binary_logloss: 0.503126\n",
            "[74]\tvalid_0's binary_logloss: 0.502614\n",
            "[75]\tvalid_0's binary_logloss: 0.502036\n",
            "[76]\tvalid_0's binary_logloss: 0.502069\n",
            "[77]\tvalid_0's binary_logloss: 0.501881\n",
            "[78]\tvalid_0's binary_logloss: 0.501405\n",
            "[79]\tvalid_0's binary_logloss: 0.500981\n",
            "[80]\tvalid_0's binary_logloss: 0.500409\n",
            "[81]\tvalid_0's binary_logloss: 0.499931\n",
            "[82]\tvalid_0's binary_logloss: 0.499521\n",
            "[83]\tvalid_0's binary_logloss: 0.499169\n",
            "[84]\tvalid_0's binary_logloss: 0.498741\n",
            "[85]\tvalid_0's binary_logloss: 0.498286\n",
            "[86]\tvalid_0's binary_logloss: 0.497902\n",
            "[87]\tvalid_0's binary_logloss: 0.497568\n",
            "[88]\tvalid_0's binary_logloss: 0.497169\n",
            "[89]\tvalid_0's binary_logloss: 0.49705\n",
            "[90]\tvalid_0's binary_logloss: 0.496664\n",
            "[91]\tvalid_0's binary_logloss: 0.496769\n",
            "[92]\tvalid_0's binary_logloss: 0.496424\n",
            "[93]\tvalid_0's binary_logloss: 0.496148\n",
            "[94]\tvalid_0's binary_logloss: 0.496039\n",
            "[95]\tvalid_0's binary_logloss: 0.495767\n",
            "[96]\tvalid_0's binary_logloss: 0.495399\n",
            "[97]\tvalid_0's binary_logloss: 0.495134\n",
            "[98]\tvalid_0's binary_logloss: 0.494794\n",
            "[99]\tvalid_0's binary_logloss: 0.494627\n",
            "[100]\tvalid_0's binary_logloss: 0.494331\n",
            "[101]\tvalid_0's binary_logloss: 0.494119\n",
            "[102]\tvalid_0's binary_logloss: 0.493809\n",
            "[103]\tvalid_0's binary_logloss: 0.493456\n",
            "[104]\tvalid_0's binary_logloss: 0.493223\n",
            "[105]\tvalid_0's binary_logloss: 0.492967\n",
            "[106]\tvalid_0's binary_logloss: 0.492686\n",
            "[107]\tvalid_0's binary_logloss: 0.492428\n",
            "[108]\tvalid_0's binary_logloss: 0.492372\n",
            "[109]\tvalid_0's binary_logloss: 0.492213\n",
            "[110]\tvalid_0's binary_logloss: 0.491953\n",
            "[111]\tvalid_0's binary_logloss: 0.492107\n",
            "[112]\tvalid_0's binary_logloss: 0.492251\n",
            "[113]\tvalid_0's binary_logloss: 0.491994\n",
            "[114]\tvalid_0's binary_logloss: 0.491956\n",
            "[115]\tvalid_0's binary_logloss: 0.491758\n",
            "[116]\tvalid_0's binary_logloss: 0.491578\n",
            "[117]\tvalid_0's binary_logloss: 0.491272\n",
            "[118]\tvalid_0's binary_logloss: 0.491096\n",
            "[119]\tvalid_0's binary_logloss: 0.490984\n",
            "[120]\tvalid_0's binary_logloss: 0.490763\n",
            "[121]\tvalid_0's binary_logloss: 0.49056\n",
            "[122]\tvalid_0's binary_logloss: 0.490441\n",
            "[123]\tvalid_0's binary_logloss: 0.490212\n",
            "[124]\tvalid_0's binary_logloss: 0.489833\n",
            "[125]\tvalid_0's binary_logloss: 0.489817\n",
            "[126]\tvalid_0's binary_logloss: 0.489667\n",
            "[127]\tvalid_0's binary_logloss: 0.489514\n",
            "[128]\tvalid_0's binary_logloss: 0.489674\n",
            "[129]\tvalid_0's binary_logloss: 0.489592\n",
            "[130]\tvalid_0's binary_logloss: 0.489359\n",
            "[131]\tvalid_0's binary_logloss: 0.489265\n",
            "[132]\tvalid_0's binary_logloss: 0.489084\n",
            "[133]\tvalid_0's binary_logloss: 0.488896\n",
            "[134]\tvalid_0's binary_logloss: 0.488825\n",
            "[135]\tvalid_0's binary_logloss: 0.488656\n",
            "[136]\tvalid_0's binary_logloss: 0.488304\n",
            "[137]\tvalid_0's binary_logloss: 0.488152\n",
            "[138]\tvalid_0's binary_logloss: 0.48802\n",
            "[139]\tvalid_0's binary_logloss: 0.488017\n",
            "[140]\tvalid_0's binary_logloss: 0.488189\n",
            "[141]\tvalid_0's binary_logloss: 0.488061\n",
            "[142]\tvalid_0's binary_logloss: 0.487859\n",
            "[143]\tvalid_0's binary_logloss: 0.487538\n",
            "[144]\tvalid_0's binary_logloss: 0.48741\n",
            "[145]\tvalid_0's binary_logloss: 0.487338\n",
            "[146]\tvalid_0's binary_logloss: 0.487231\n",
            "[147]\tvalid_0's binary_logloss: 0.487117\n",
            "[148]\tvalid_0's binary_logloss: 0.487066\n",
            "[149]\tvalid_0's binary_logloss: 0.486913\n",
            "[150]\tvalid_0's binary_logloss: 0.48661\n",
            "[151]\tvalid_0's binary_logloss: 0.486487\n",
            "[152]\tvalid_0's binary_logloss: 0.486281\n",
            "[153]\tvalid_0's binary_logloss: 0.486093\n",
            "[154]\tvalid_0's binary_logloss: 0.486103\n",
            "[155]\tvalid_0's binary_logloss: 0.486119\n",
            "[156]\tvalid_0's binary_logloss: 0.485986\n",
            "[157]\tvalid_0's binary_logloss: 0.485932\n",
            "[158]\tvalid_0's binary_logloss: 0.485837\n",
            "[159]\tvalid_0's binary_logloss: 0.485543\n",
            "[160]\tvalid_0's binary_logloss: 0.485499\n",
            "[161]\tvalid_0's binary_logloss: 0.485396\n",
            "[162]\tvalid_0's binary_logloss: 0.48556\n",
            "[163]\tvalid_0's binary_logloss: 0.485456\n",
            "[164]\tvalid_0's binary_logloss: 0.485319\n",
            "[165]\tvalid_0's binary_logloss: 0.485289\n",
            "[166]\tvalid_0's binary_logloss: 0.485164\n",
            "[167]\tvalid_0's binary_logloss: 0.484892\n",
            "[168]\tvalid_0's binary_logloss: 0.484827\n",
            "[169]\tvalid_0's binary_logloss: 0.484759\n",
            "[170]\tvalid_0's binary_logloss: 0.484537\n",
            "[171]\tvalid_0's binary_logloss: 0.484505\n",
            "[172]\tvalid_0's binary_logloss: 0.484417\n",
            "[173]\tvalid_0's binary_logloss: 0.484148\n",
            "[174]\tvalid_0's binary_logloss: 0.483986\n",
            "[175]\tvalid_0's binary_logloss: 0.483908\n",
            "[176]\tvalid_0's binary_logloss: 0.48382\n",
            "[177]\tvalid_0's binary_logloss: 0.48357\n",
            "[178]\tvalid_0's binary_logloss: 0.483461\n",
            "[179]\tvalid_0's binary_logloss: 0.483631\n",
            "[180]\tvalid_0's binary_logloss: 0.483621\n",
            "[181]\tvalid_0's binary_logloss: 0.483649\n",
            "[182]\tvalid_0's binary_logloss: 0.483583\n",
            "[183]\tvalid_0's binary_logloss: 0.483333\n",
            "[184]\tvalid_0's binary_logloss: 0.483252\n",
            "[185]\tvalid_0's binary_logloss: 0.483232\n",
            "[186]\tvalid_0's binary_logloss: 0.483261\n",
            "[187]\tvalid_0's binary_logloss: 0.483181\n",
            "[188]\tvalid_0's binary_logloss: 0.483043\n",
            "[189]\tvalid_0's binary_logloss: 0.483202\n",
            "[190]\tvalid_0's binary_logloss: 0.482971\n",
            "[191]\tvalid_0's binary_logloss: 0.482893\n",
            "[192]\tvalid_0's binary_logloss: 0.482854\n",
            "[193]\tvalid_0's binary_logloss: 0.482794\n",
            "[194]\tvalid_0's binary_logloss: 0.482722\n",
            "[195]\tvalid_0's binary_logloss: 0.482635\n",
            "[196]\tvalid_0's binary_logloss: 0.482409\n",
            "[197]\tvalid_0's binary_logloss: 0.482402\n",
            "[198]\tvalid_0's binary_logloss: 0.482177\n",
            "[199]\tvalid_0's binary_logloss: 0.482108\n",
            "[200]\tvalid_0's binary_logloss: 0.482112\n"
          ]
        },
        {
          "output_type": "execute_result",
          "data": {
            "text/plain": [
              "LGBMClassifier(early_stopping=20, max_depth=1, n_estimators=200)"
            ],
            "text/html": [
              "<style>#sk-container-id-17 {color: black;background-color: white;}#sk-container-id-17 pre{padding: 0;}#sk-container-id-17 div.sk-toggleable {background-color: white;}#sk-container-id-17 label.sk-toggleable__label {cursor: pointer;display: block;width: 100%;margin-bottom: 0;padding: 0.3em;box-sizing: border-box;text-align: center;}#sk-container-id-17 label.sk-toggleable__label-arrow:before {content: \"▸\";float: left;margin-right: 0.25em;color: #696969;}#sk-container-id-17 label.sk-toggleable__label-arrow:hover:before {color: black;}#sk-container-id-17 div.sk-estimator:hover label.sk-toggleable__label-arrow:before {color: black;}#sk-container-id-17 div.sk-toggleable__content {max-height: 0;max-width: 0;overflow: hidden;text-align: left;background-color: #f0f8ff;}#sk-container-id-17 div.sk-toggleable__content pre {margin: 0.2em;color: black;border-radius: 0.25em;background-color: #f0f8ff;}#sk-container-id-17 input.sk-toggleable__control:checked~div.sk-toggleable__content {max-height: 200px;max-width: 100%;overflow: auto;}#sk-container-id-17 input.sk-toggleable__control:checked~label.sk-toggleable__label-arrow:before {content: \"▾\";}#sk-container-id-17 div.sk-estimator input.sk-toggleable__control:checked~label.sk-toggleable__label {background-color: #d4ebff;}#sk-container-id-17 div.sk-label input.sk-toggleable__control:checked~label.sk-toggleable__label {background-color: #d4ebff;}#sk-container-id-17 input.sk-hidden--visually {border: 0;clip: rect(1px 1px 1px 1px);clip: rect(1px, 1px, 1px, 1px);height: 1px;margin: -1px;overflow: hidden;padding: 0;position: absolute;width: 1px;}#sk-container-id-17 div.sk-estimator {font-family: monospace;background-color: #f0f8ff;border: 1px dotted black;border-radius: 0.25em;box-sizing: border-box;margin-bottom: 0.5em;}#sk-container-id-17 div.sk-estimator:hover {background-color: #d4ebff;}#sk-container-id-17 div.sk-parallel-item::after {content: \"\";width: 100%;border-bottom: 1px solid gray;flex-grow: 1;}#sk-container-id-17 div.sk-label:hover label.sk-toggleable__label {background-color: #d4ebff;}#sk-container-id-17 div.sk-serial::before {content: \"\";position: absolute;border-left: 1px solid gray;box-sizing: border-box;top: 0;bottom: 0;left: 50%;z-index: 0;}#sk-container-id-17 div.sk-serial {display: flex;flex-direction: column;align-items: center;background-color: white;padding-right: 0.2em;padding-left: 0.2em;position: relative;}#sk-container-id-17 div.sk-item {position: relative;z-index: 1;}#sk-container-id-17 div.sk-parallel {display: flex;align-items: stretch;justify-content: center;background-color: white;position: relative;}#sk-container-id-17 div.sk-item::before, #sk-container-id-17 div.sk-parallel-item::before {content: \"\";position: absolute;border-left: 1px solid gray;box-sizing: border-box;top: 0;bottom: 0;left: 50%;z-index: -1;}#sk-container-id-17 div.sk-parallel-item {display: flex;flex-direction: column;z-index: 1;position: relative;background-color: white;}#sk-container-id-17 div.sk-parallel-item:first-child::after {align-self: flex-end;width: 50%;}#sk-container-id-17 div.sk-parallel-item:last-child::after {align-self: flex-start;width: 50%;}#sk-container-id-17 div.sk-parallel-item:only-child::after {width: 0;}#sk-container-id-17 div.sk-dashed-wrapped {border: 1px dashed gray;margin: 0 0.4em 0.5em 0.4em;box-sizing: border-box;padding-bottom: 0.4em;background-color: white;}#sk-container-id-17 div.sk-label label {font-family: monospace;font-weight: bold;display: inline-block;line-height: 1.2em;}#sk-container-id-17 div.sk-label-container {text-align: center;}#sk-container-id-17 div.sk-container {/* jupyter's `normalize.less` sets `[hidden] { display: none; }` but bootstrap.min.css set `[hidden] { display: none !important; }` so we also need the `!important` here to be able to override the default hidden behavior on the sphinx rendered scikit-learn.org. See: https://github.com/scikit-learn/scikit-learn/issues/21755 */display: inline-block !important;position: relative;}#sk-container-id-17 div.sk-text-repr-fallback {display: none;}</style><div id=\"sk-container-id-17\" class=\"sk-top-container\"><div class=\"sk-text-repr-fallback\"><pre>LGBMClassifier(early_stopping=20, max_depth=1, n_estimators=200)</pre><b>In a Jupyter environment, please rerun this cell to show the HTML representation or trust the notebook. <br />On GitHub, the HTML representation is unable to render, please try loading this page with nbviewer.org.</b></div><div class=\"sk-container\" hidden><div class=\"sk-item\"><div class=\"sk-estimator sk-toggleable\"><input class=\"sk-toggleable__control sk-hidden--visually\" id=\"sk-estimator-id-17\" type=\"checkbox\" checked><label for=\"sk-estimator-id-17\" class=\"sk-toggleable__label sk-toggleable__label-arrow\">LGBMClassifier</label><div class=\"sk-toggleable__content\"><pre>LGBMClassifier(early_stopping=20, max_depth=1, n_estimators=200)</pre></div></div></div></div></div>"
            ]
          },
          "metadata": {},
          "execution_count": 186
        }
      ]
    },
    {
      "cell_type": "code",
      "source": [
        "preds_gbm = gbm.predict(X_test)\n",
        "\n",
        "print(f\"Model Accuracy: {round(accuracy_score(preds_gbm,y_test), 2)}%\")"
      ],
      "metadata": {
        "colab": {
          "base_uri": "https://localhost:8080/"
        },
        "id": "Oe2G5Kb-2YMZ",
        "outputId": "79d4edad-e4fb-4957-dc6e-b14c9bcaaa1d"
      },
      "execution_count": null,
      "outputs": [
        {
          "output_type": "stream",
          "name": "stdout",
          "text": [
            "Model Accuracy: 0.75%\n"
          ]
        }
      ]
    },
    {
      "cell_type": "code",
      "source": [
        "# Xgboost\n",
        "!pip install xgboost"
      ],
      "metadata": {
        "colab": {
          "base_uri": "https://localhost:8080/"
        },
        "id": "hmzBV6rex42l",
        "outputId": "9659fff2-ef59-47a7-88f7-285a01881eb0"
      },
      "execution_count": null,
      "outputs": [
        {
          "output_type": "stream",
          "name": "stdout",
          "text": [
            "Requirement already satisfied: xgboost in /usr/local/lib/python3.10/dist-packages (1.7.6)\n",
            "Requirement already satisfied: numpy in /usr/local/lib/python3.10/dist-packages (from xgboost) (1.22.4)\n",
            "Requirement already satisfied: scipy in /usr/local/lib/python3.10/dist-packages (from xgboost) (1.10.1)\n"
          ]
        }
      ]
    },
    {
      "cell_type": "code",
      "source": [
        "from xgboost import XGBClassifier\n",
        "\n",
        "# create model instance\n",
        "xgb = XGBClassifier(n_estimators=200, max_depth=2,\n",
        "                    learning_rate=1, objective='binary:logistic')\n"
      ],
      "metadata": {
        "id": "HWdN2qvs4deS"
      },
      "execution_count": null,
      "outputs": []
    },
    {
      "cell_type": "code",
      "source": [
        "# fit model\n",
        "xgb.fit(X_train, y_train)\n"
      ],
      "metadata": {
        "colab": {
          "base_uri": "https://localhost:8080/",
          "height": 248
        },
        "id": "i3UCRg1p4dg5",
        "outputId": "b7f1f79f-237e-4df6-c654-7e3940fd6a29"
      },
      "execution_count": null,
      "outputs": [
        {
          "output_type": "execute_result",
          "data": {
            "text/plain": [
              "XGBClassifier(base_score=None, booster=None, callbacks=None,\n",
              "              colsample_bylevel=None, colsample_bynode=None,\n",
              "              colsample_bytree=None, early_stopping_rounds=None,\n",
              "              enable_categorical=False, eval_metric=None, feature_types=None,\n",
              "              gamma=None, gpu_id=None, grow_policy=None, importance_type=None,\n",
              "              interaction_constraints=None, learning_rate=1, max_bin=None,\n",
              "              max_cat_threshold=None, max_cat_to_onehot=None,\n",
              "              max_delta_step=None, max_depth=2, max_leaves=None,\n",
              "              min_child_weight=None, missing=nan, monotone_constraints=None,\n",
              "              n_estimators=200, n_jobs=None, num_parallel_tree=None,\n",
              "              predictor=None, random_state=None, ...)"
            ],
            "text/html": [
              "<style>#sk-container-id-21 {color: black;background-color: white;}#sk-container-id-21 pre{padding: 0;}#sk-container-id-21 div.sk-toggleable {background-color: white;}#sk-container-id-21 label.sk-toggleable__label {cursor: pointer;display: block;width: 100%;margin-bottom: 0;padding: 0.3em;box-sizing: border-box;text-align: center;}#sk-container-id-21 label.sk-toggleable__label-arrow:before {content: \"▸\";float: left;margin-right: 0.25em;color: #696969;}#sk-container-id-21 label.sk-toggleable__label-arrow:hover:before {color: black;}#sk-container-id-21 div.sk-estimator:hover label.sk-toggleable__label-arrow:before {color: black;}#sk-container-id-21 div.sk-toggleable__content {max-height: 0;max-width: 0;overflow: hidden;text-align: left;background-color: #f0f8ff;}#sk-container-id-21 div.sk-toggleable__content pre {margin: 0.2em;color: black;border-radius: 0.25em;background-color: #f0f8ff;}#sk-container-id-21 input.sk-toggleable__control:checked~div.sk-toggleable__content {max-height: 200px;max-width: 100%;overflow: auto;}#sk-container-id-21 input.sk-toggleable__control:checked~label.sk-toggleable__label-arrow:before {content: \"▾\";}#sk-container-id-21 div.sk-estimator input.sk-toggleable__control:checked~label.sk-toggleable__label {background-color: #d4ebff;}#sk-container-id-21 div.sk-label input.sk-toggleable__control:checked~label.sk-toggleable__label {background-color: #d4ebff;}#sk-container-id-21 input.sk-hidden--visually {border: 0;clip: rect(1px 1px 1px 1px);clip: rect(1px, 1px, 1px, 1px);height: 1px;margin: -1px;overflow: hidden;padding: 0;position: absolute;width: 1px;}#sk-container-id-21 div.sk-estimator {font-family: monospace;background-color: #f0f8ff;border: 1px dotted black;border-radius: 0.25em;box-sizing: border-box;margin-bottom: 0.5em;}#sk-container-id-21 div.sk-estimator:hover {background-color: #d4ebff;}#sk-container-id-21 div.sk-parallel-item::after {content: \"\";width: 100%;border-bottom: 1px solid gray;flex-grow: 1;}#sk-container-id-21 div.sk-label:hover label.sk-toggleable__label {background-color: #d4ebff;}#sk-container-id-21 div.sk-serial::before {content: \"\";position: absolute;border-left: 1px solid gray;box-sizing: border-box;top: 0;bottom: 0;left: 50%;z-index: 0;}#sk-container-id-21 div.sk-serial {display: flex;flex-direction: column;align-items: center;background-color: white;padding-right: 0.2em;padding-left: 0.2em;position: relative;}#sk-container-id-21 div.sk-item {position: relative;z-index: 1;}#sk-container-id-21 div.sk-parallel {display: flex;align-items: stretch;justify-content: center;background-color: white;position: relative;}#sk-container-id-21 div.sk-item::before, #sk-container-id-21 div.sk-parallel-item::before {content: \"\";position: absolute;border-left: 1px solid gray;box-sizing: border-box;top: 0;bottom: 0;left: 50%;z-index: -1;}#sk-container-id-21 div.sk-parallel-item {display: flex;flex-direction: column;z-index: 1;position: relative;background-color: white;}#sk-container-id-21 div.sk-parallel-item:first-child::after {align-self: flex-end;width: 50%;}#sk-container-id-21 div.sk-parallel-item:last-child::after {align-self: flex-start;width: 50%;}#sk-container-id-21 div.sk-parallel-item:only-child::after {width: 0;}#sk-container-id-21 div.sk-dashed-wrapped {border: 1px dashed gray;margin: 0 0.4em 0.5em 0.4em;box-sizing: border-box;padding-bottom: 0.4em;background-color: white;}#sk-container-id-21 div.sk-label label {font-family: monospace;font-weight: bold;display: inline-block;line-height: 1.2em;}#sk-container-id-21 div.sk-label-container {text-align: center;}#sk-container-id-21 div.sk-container {/* jupyter's `normalize.less` sets `[hidden] { display: none; }` but bootstrap.min.css set `[hidden] { display: none !important; }` so we also need the `!important` here to be able to override the default hidden behavior on the sphinx rendered scikit-learn.org. See: https://github.com/scikit-learn/scikit-learn/issues/21755 */display: inline-block !important;position: relative;}#sk-container-id-21 div.sk-text-repr-fallback {display: none;}</style><div id=\"sk-container-id-21\" class=\"sk-top-container\"><div class=\"sk-text-repr-fallback\"><pre>XGBClassifier(base_score=None, booster=None, callbacks=None,\n",
              "              colsample_bylevel=None, colsample_bynode=None,\n",
              "              colsample_bytree=None, early_stopping_rounds=None,\n",
              "              enable_categorical=False, eval_metric=None, feature_types=None,\n",
              "              gamma=None, gpu_id=None, grow_policy=None, importance_type=None,\n",
              "              interaction_constraints=None, learning_rate=1, max_bin=None,\n",
              "              max_cat_threshold=None, max_cat_to_onehot=None,\n",
              "              max_delta_step=None, max_depth=2, max_leaves=None,\n",
              "              min_child_weight=None, missing=nan, monotone_constraints=None,\n",
              "              n_estimators=200, n_jobs=None, num_parallel_tree=None,\n",
              "              predictor=None, random_state=None, ...)</pre><b>In a Jupyter environment, please rerun this cell to show the HTML representation or trust the notebook. <br />On GitHub, the HTML representation is unable to render, please try loading this page with nbviewer.org.</b></div><div class=\"sk-container\" hidden><div class=\"sk-item\"><div class=\"sk-estimator sk-toggleable\"><input class=\"sk-toggleable__control sk-hidden--visually\" id=\"sk-estimator-id-21\" type=\"checkbox\" checked><label for=\"sk-estimator-id-21\" class=\"sk-toggleable__label sk-toggleable__label-arrow\">XGBClassifier</label><div class=\"sk-toggleable__content\"><pre>XGBClassifier(base_score=None, booster=None, callbacks=None,\n",
              "              colsample_bylevel=None, colsample_bynode=None,\n",
              "              colsample_bytree=None, early_stopping_rounds=None,\n",
              "              enable_categorical=False, eval_metric=None, feature_types=None,\n",
              "              gamma=None, gpu_id=None, grow_policy=None, importance_type=None,\n",
              "              interaction_constraints=None, learning_rate=1, max_bin=None,\n",
              "              max_cat_threshold=None, max_cat_to_onehot=None,\n",
              "              max_delta_step=None, max_depth=2, max_leaves=None,\n",
              "              min_child_weight=None, missing=nan, monotone_constraints=None,\n",
              "              n_estimators=200, n_jobs=None, num_parallel_tree=None,\n",
              "              predictor=None, random_state=None, ...)</pre></div></div></div></div></div>"
            ]
          },
          "metadata": {},
          "execution_count": 202
        }
      ]
    },
    {
      "cell_type": "code",
      "source": [
        "# make predictions\n",
        "preds_xgb = xgb.predict(X_test)\n",
        "print(f\"Model Accuracy: {round(accuracy_score(preds_xgb,y_test), 2)}%\")"
      ],
      "metadata": {
        "colab": {
          "base_uri": "https://localhost:8080/"
        },
        "id": "6bCld5Zs4qA9",
        "outputId": "9b16608f-14ac-4d80-9ff2-e74de63b2e15"
      },
      "execution_count": null,
      "outputs": [
        {
          "output_type": "stream",
          "name": "stdout",
          "text": [
            "Model Accuracy: 0.77%\n"
          ]
        }
      ]
    },
    {
      "cell_type": "code",
      "source": [
        "# saving the model\n",
        "from joblib import dump, load\n",
        "\n",
        "dump(rf, 'churn_model.joblib')"
      ],
      "metadata": {
        "colab": {
          "base_uri": "https://localhost:8080/"
        },
        "id": "nZEIJWVK5Lck",
        "outputId": "efe3e23b-5a5c-4f9b-c149-9118a370d19e"
      },
      "execution_count": null,
      "outputs": [
        {
          "output_type": "execute_result",
          "data": {
            "text/plain": [
              "['churn_model.joblib']"
            ]
          },
          "metadata": {},
          "execution_count": 205
        }
      ]
    },
    {
      "cell_type": "markdown",
      "source": [
        "### Next Steps\n",
        "\n",
        "Of course, there are more techniques we can use to improve our model accuracy, such as trying different hyperparameters and properly evaluating our model's accuracy through cross-validation."
      ],
      "metadata": {
        "id": "k-bG3w4L3hDR"
      }
    },
    {
      "cell_type": "code",
      "source": [],
      "metadata": {
        "id": "PBzKnVxd3k2Y"
      },
      "execution_count": null,
      "outputs": []
    },
    {
      "cell_type": "code",
      "source": [],
      "metadata": {
        "id": "lv8_IZG23k4u"
      },
      "execution_count": null,
      "outputs": []
    },
    {
      "cell_type": "code",
      "source": [],
      "metadata": {
        "id": "fPIw0hlC3k6-"
      },
      "execution_count": null,
      "outputs": []
    },
    {
      "cell_type": "code",
      "source": [],
      "metadata": {
        "id": "a_JJa-if3lGh"
      },
      "execution_count": null,
      "outputs": []
    }
  ]
}